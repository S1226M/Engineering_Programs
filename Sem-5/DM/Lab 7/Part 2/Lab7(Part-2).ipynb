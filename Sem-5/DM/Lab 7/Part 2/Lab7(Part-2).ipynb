{
 "cells": [
  {
   "cell_type": "markdown",
   "id": "02b33ee5",
   "metadata": {},
   "source": [
    "<a href='https://www.darshan.ac.in/'> <img src='https://www.darshan.ac.in/Content/media/DU_Logo.svg' width=\"250\" height=\"300\"/></a>\n",
    "<pre>\n",
    "<center><b><h1>Data Mining</b></center>\n",
    "<center><b><h1>Lab - 7 (Part 2)</b></center>    \n",
    "<pre>"
   ]
  },
  {
   "cell_type": "markdown",
   "id": "b89baf8c-9aac-4ed1-bc88-5dc8dc39f77e",
   "metadata": {},
   "source": [
    "\n",
    "<form>\n",
    "  <label><b>Name:</b></label>\n",
    "  <span contenteditable=\"true\" style=\" display: inline-block;\">Smit Maru</span>\n",
    "  <br><br>\n",
    "\n",
    "  <label><b>Enrollment No:</b></label>\n",
    "  <span contenteditable=\"true\" style=\"display: inline-block;\">23010101161</span>\n",
    "</form>\n"
   ]
  },
  {
   "cell_type": "markdown",
   "id": "08f0806f",
   "metadata": {},
   "source": [
    "### Step 1: Load the Dataset\n",
    "Load the `Tdata.csv` file and display the first few rows."
   ]
  },
  {
   "cell_type": "code",
   "execution_count": 1,
   "id": "dd419a98",
   "metadata": {},
   "outputs": [
    {
     "name": "stdout",
     "output_type": "stream",
     "text": [
      "  Transaction  bread  butter  coffee  eggs  jam  milk\n",
      "0          T1      1       1       0     0    0     1\n",
      "1          T2      1       1       0     0    1     0\n",
      "2          T3      1       0       0     1    0     1\n",
      "3          T4      1       1       0     0    0     1\n",
      "4          T5      1       0       1     0    0     0\n"
     ]
    }
   ],
   "source": [
    "import pandas as pd\n",
    "\n",
    "df = pd.read_csv(\"Tdata.csv\") \n",
    "print(df.head())\n"
   ]
  },
  {
   "cell_type": "markdown",
   "id": "3532ee71",
   "metadata": {},
   "source": [
    "### Step 2: Drop the 'Transaction' Column\n",
    "We're only interested in the items (not the transaction IDs)."
   ]
  },
  {
   "cell_type": "code",
   "execution_count": 2,
   "id": "e2575fe6",
   "metadata": {},
   "outputs": [],
   "source": [
    "df = df.drop(columns=['Transaction'])"
   ]
  },
  {
   "cell_type": "markdown",
   "id": "f1f8e5fa",
   "metadata": {},
   "source": [
    "### Step 3: Count Single Items\n",
    "See how many transactions include each item."
   ]
  },
  {
   "cell_type": "code",
   "execution_count": 3,
   "id": "8770cf10",
   "metadata": {},
   "outputs": [
    {
     "name": "stdout",
     "output_type": "stream",
     "text": [
      "bread     5\n",
      "butter    3\n",
      "coffee    2\n",
      "eggs      2\n",
      "jam       2\n",
      "milk      3\n",
      "dtype: int64\n"
     ]
    }
   ],
   "source": [
    "item_counts = df.sum()\n",
    "print(item_counts)"
   ]
  },
  {
   "cell_type": "markdown",
   "id": "06a4f0e5",
   "metadata": {},
   "source": [
    "### Step 4: Define Apriori Function\n",
    "This function finds frequent itemsets of size 1, 2, and 3 with minimum support."
   ]
  },
  {
   "cell_type": "code",
   "execution_count": 4,
   "id": "d11baaab",
   "metadata": {},
   "outputs": [
    {
     "name": "stdout",
     "output_type": "stream",
     "text": [
      "   Itemset   Support\n",
      "0  (bread)  0.833333\n"
     ]
    }
   ],
   "source": [
    "from itertools import combinations\n",
    "import pandas as pd\n",
    "\n",
    "def apriori(df, min_support=0.6):\n",
    "    num_txns = len(df)\n",
    "    items = df.columns\n",
    "    freq_itemsets = []\n",
    "\n",
    "    L1 = []\n",
    "    for item in items:\n",
    "        support = df[item].sum() / num_txns\n",
    "        if support >= min_support:\n",
    "            L1.append((frozenset([item]), support))\n",
    "    freq_itemsets.extend(L1)\n",
    "\n",
    "    L2 = []\n",
    "    for itemset in combinations([i[0] for i in L1], 2):\n",
    "        union_items = itemset[0].union(itemset[1])\n",
    "        support = (df[list(union_items)].sum(axis=1) == len(union_items)).mean()\n",
    "        if support >= min_support:\n",
    "            L2.append((union_items, support))\n",
    "    freq_itemsets.extend(L2)\n",
    "\n",
    "    L3 = []\n",
    "    for itemset in combinations([i[0] for i in L1], 3):\n",
    "        union_items = itemset[0].union(itemset[1]).union(itemset[2])\n",
    "        support = (df[list(union_items)].sum(axis=1) == len(union_items)).mean()\n",
    "        if support >= min_support:\n",
    "            L3.append((union_items, support))\n",
    "    freq_itemsets.extend(L3)\n",
    "\n",
    "    return freq_itemsets\n",
    "\n",
    "frequent_itemsets = apriori(df, min_support=0.6)\n",
    "\n",
    "result_df = pd.DataFrame(frequent_itemsets, columns=[\"Itemset\", \"Support\"])\n",
    "print(result_df)\n"
   ]
  },
  {
   "cell_type": "markdown",
   "id": "ec43a005",
   "metadata": {},
   "source": [
    "### Step 5: Run Apriori\n",
    "Set `min_support = 0.6` and display the frequent itemsets."
   ]
  },
  {
   "cell_type": "code",
   "execution_count": 5,
   "id": "c6e33702",
   "metadata": {},
   "outputs": [
    {
     "name": "stdout",
     "output_type": "stream",
     "text": [
      "[(frozenset({'bread'}), 0.8333333333333334)]\n"
     ]
    }
   ],
   "source": [
    "frequent_itemsets = apriori(df, min_support=0.6)\n",
    "print(frequent_itemsets)"
   ]
  },
  {
   "cell_type": "markdown",
   "id": "0026f6da",
   "metadata": {},
   "source": [
    "### Step 6 Display as a DataFrame"
   ]
  },
  {
   "cell_type": "code",
   "execution_count": 6,
   "id": "2c772d61",
   "metadata": {},
   "outputs": [
    {
     "name": "stdout",
     "output_type": "stream",
     "text": [
      "   Itemset   Support\n",
      "0  (bread)  0.833333\n"
     ]
    }
   ],
   "source": [
    "import pandas as pd\n",
    "\n",
    "frequent_itemsets = apriori(df, min_support=0.6)\n",
    "\n",
    "result_df = pd.DataFrame(frequent_itemsets, columns=[\"Itemset\", \"Support\"])\n",
    "print(result_df)\n"
   ]
  },
  {
   "cell_type": "markdown",
   "id": "068f6cea",
   "metadata": {},
   "source": [
    "# Orange Tool : - >Generate Same Frequent Patterns in Orange tools"
   ]
  },
  {
   "cell_type": "markdown",
   "id": "744909d6",
   "metadata": {},
   "source": [
    "# Extra : - >  Define Apriori Function without itertools"
   ]
  }
 ],
 "metadata": {
  "kernelspec": {
   "display_name": "Python 3 (ipykernel)",
   "language": "python",
   "name": "python3"
  },
  "language_info": {
   "codemirror_mode": {
    "name": "ipython",
    "version": 3
   },
   "file_extension": ".py",
   "mimetype": "text/x-python",
   "name": "python",
   "nbconvert_exporter": "python",
   "pygments_lexer": "ipython3",
   "version": "3.12.7"
  }
 },
 "nbformat": 4,
 "nbformat_minor": 5
}
