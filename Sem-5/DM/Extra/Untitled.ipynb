{
 "cells": [
  {
   "cell_type": "markdown",
   "id": "945599bd-406f-4e07-9cc8-f5416de877a4",
   "metadata": {},
   "source": [
    "1. Whole Class"
   ]
  },
  {
   "cell_type": "markdown",
   "id": "9ffb076a-425d-4819-9998-ae95950885c4",
   "metadata": {},
   "source": [
    "2. Odd Roll No. of B & D"
   ]
  },
  {
   "cell_type": "markdown",
   "id": "2867fe8b-ca57-4bd7-b0b8-339c60a16865",
   "metadata": {},
   "source": [
    "3. Last Roll No. of all Class"
   ]
  },
  {
   "cell_type": "markdown",
   "id": "8c16c925-5202-49c2-8b3b-d68ad8a6c699",
   "metadata": {},
   "source": [
    "4. Print Box"
   ]
  },
  {
   "cell_type": "code",
   "execution_count": null,
   "id": "e1bd66c7-415b-48c5-b056-bfb5135529c5",
   "metadata": {},
   "outputs": [],
   "source": []
  }
 ],
 "metadata": {
  "kernelspec": {
   "display_name": "Python 3 (ipykernel)",
   "language": "python",
   "name": "python3"
  },
  "language_info": {
   "codemirror_mode": {
    "name": "ipython",
    "version": 3
   },
   "file_extension": ".py",
   "mimetype": "text/x-python",
   "name": "python",
   "nbconvert_exporter": "python",
   "pygments_lexer": "ipython3",
   "version": "3.12.7"
  }
 },
 "nbformat": 4,
 "nbformat_minor": 5
}
