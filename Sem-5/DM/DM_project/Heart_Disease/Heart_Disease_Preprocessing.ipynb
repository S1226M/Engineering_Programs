{
 "cells": [
  {
   "cell_type": "markdown",
   "id": "d7559e02-38a7-4cee-ab8f-a61ec270f79a",
   "metadata": {},
   "source": [
    "<a href='https://www.darshan.ac.in/'> <img src='https://www.darshan.ac.in/Content/media/DU_Logo.svg' width=\"250\" height=\"300\"/></a>\n",
    "<pre>\n",
    "<center><b><h1>Data Mining - 2301CS503</b></center>\n",
    "<center><b><h1>Heart Disease project <br>Preprocessing</b></center> \n",
    "    \n",
    "\n",
    "<center><b><h2>Name: Smit Maru</h2></b></center>\n",
    "<center><b><h2>Enrollment No: 23010101161</h2></b></center>\n",
    "<pre>"
   ]
  },
  {
   "cell_type": "markdown",
   "id": "b6ed4d7d-0bef-4e77-bb41-e4a045280424",
   "metadata": {},
   "source": [
    "### 1. Import Library"
   ]
  },
  {
   "cell_type": "code",
   "execution_count": 1,
   "id": "eeb7fc15-694d-4fbe-b50d-d03c06a115ad",
   "metadata": {},
   "outputs": [],
   "source": [
    "import pandas as pd\n",
    "import numpy as np\n",
    "import matplotlib.pyplot as plt"
   ]
  },
  {
   "cell_type": "markdown",
   "id": "5ba41c08-684a-492d-87e9-53a13f7ace4e",
   "metadata": {},
   "source": [
    "### 2. Read data set"
   ]
  },
  {
   "cell_type": "code",
   "execution_count": 2,
   "id": "7cecd1fe-1177-4f85-8bc5-10ddd99e1752",
   "metadata": {},
   "outputs": [],
   "source": [
    "df = pd.read_csv(r\"D:\\Engineering_Programs\\Sem-5\\DM\\DM_project\\Heart_Disease\\Heart_Disease.csv\")"
   ]
  },
  {
   "cell_type": "markdown",
   "id": "c23f0079-88f4-4936-9474-3d27d77afde6",
   "metadata": {},
   "source": [
    "### 3. Dislay first 10 records"
   ]
  },
  {
   "cell_type": "code",
   "execution_count": 3,
   "id": "c79496d8-3778-473b-9880-1510ae916055",
   "metadata": {},
   "outputs": [
    {
     "name": "stdout",
     "output_type": "stream",
     "text": [
      "   age  sex  cp  trestbps  chol  fbs  restecg  thalach  exang  oldpeak  slope  \\\n",
      "0   52    1   0       125   212    0        1      168      0      1.0      2   \n",
      "1   53    1   0       140   203    1        0      155      1      3.1      0   \n",
      "2   70    1   0       145   174    0        1      125      1      2.6      0   \n",
      "3   61    1   0       148   203    0        1      161      0      0.0      2   \n",
      "4   62    0   0       138   294    1        1      106      0      1.9      1   \n",
      "5   58    0   0       100   248    0        0      122      0      1.0      1   \n",
      "6   58    1   0       114   318    0        2      140      0      4.4      0   \n",
      "7   55    1   0       160   289    0        0      145      1      0.8      1   \n",
      "8   46    1   0       120   249    0        0      144      0      0.8      2   \n",
      "9   54    1   0       122   286    0        0      116      1      3.2      1   \n",
      "\n",
      "   ca  thal  target  \n",
      "0   2     3       0  \n",
      "1   0     3       0  \n",
      "2   0     3       0  \n",
      "3   1     3       0  \n",
      "4   3     2       0  \n",
      "5   0     2       1  \n",
      "6   3     1       0  \n",
      "7   1     3       0  \n",
      "8   0     3       0  \n",
      "9   2     2       0  \n"
     ]
    }
   ],
   "source": [
    "print(df.head(10))"
   ]
  },
  {
   "cell_type": "markdown",
   "id": "75e1c58a-55bf-47b6-b221-a1a2986b3fc4",
   "metadata": {},
   "source": [
    "### 4. Data type of each column"
   ]
  },
  {
   "cell_type": "code",
   "execution_count": 4,
   "id": "640db66e-ef11-451f-b2db-9f77f24892b2",
   "metadata": {},
   "outputs": [
    {
     "name": "stdout",
     "output_type": "stream",
     "text": [
      "age           int64\n",
      "sex           int64\n",
      "cp            int64\n",
      "trestbps      int64\n",
      "chol          int64\n",
      "fbs           int64\n",
      "restecg       int64\n",
      "thalach       int64\n",
      "exang         int64\n",
      "oldpeak     float64\n",
      "slope         int64\n",
      "ca            int64\n",
      "thal          int64\n",
      "target        int64\n",
      "dtype: object\n"
     ]
    }
   ],
   "source": [
    "print(df.dtypes)"
   ]
  },
  {
   "cell_type": "markdown",
   "id": "2ee43017-9586-4b2c-bd75-24ee49cdd5e3",
   "metadata": {},
   "source": [
    "### 5. Display information"
   ]
  },
  {
   "cell_type": "code",
   "execution_count": 5,
   "id": "4a8b5da0-0ed7-4ad5-9717-42d26879e5b8",
   "metadata": {},
   "outputs": [
    {
     "name": "stdout",
     "output_type": "stream",
     "text": [
      "<bound method DataFrame.info of       age  sex  cp  trestbps  chol  fbs  restecg  thalach  exang  oldpeak  \\\n",
      "0      52    1   0       125   212    0        1      168      0      1.0   \n",
      "1      53    1   0       140   203    1        0      155      1      3.1   \n",
      "2      70    1   0       145   174    0        1      125      1      2.6   \n",
      "3      61    1   0       148   203    0        1      161      0      0.0   \n",
      "4      62    0   0       138   294    1        1      106      0      1.9   \n",
      "...   ...  ...  ..       ...   ...  ...      ...      ...    ...      ...   \n",
      "1020   59    1   1       140   221    0        1      164      1      0.0   \n",
      "1021   60    1   0       125   258    0        0      141      1      2.8   \n",
      "1022   47    1   0       110   275    0        0      118      1      1.0   \n",
      "1023   50    0   0       110   254    0        0      159      0      0.0   \n",
      "1024   54    1   0       120   188    0        1      113      0      1.4   \n",
      "\n",
      "      slope  ca  thal  target  \n",
      "0         2   2     3       0  \n",
      "1         0   0     3       0  \n",
      "2         0   0     3       0  \n",
      "3         2   1     3       0  \n",
      "4         1   3     2       0  \n",
      "...     ...  ..   ...     ...  \n",
      "1020      2   0     2       1  \n",
      "1021      1   1     3       0  \n",
      "1022      1   1     2       0  \n",
      "1023      2   0     2       1  \n",
      "1024      1   1     3       0  \n",
      "\n",
      "[1025 rows x 14 columns]>\n"
     ]
    }
   ],
   "source": [
    "print(df.info)"
   ]
  },
  {
   "cell_type": "markdown",
   "id": "17d01828-0ab4-4246-a2b0-c6f2daef29e7",
   "metadata": {},
   "source": [
    "### 06) Access rows by their integer location"
   ]
  },
  {
   "cell_type": "code",
   "execution_count": 6,
   "id": "8811be3a-f2ee-435c-b522-ba2aa81a7b4f",
   "metadata": {},
   "outputs": [
    {
     "name": "stdout",
     "output_type": "stream",
     "text": [
      "age          58.0\n",
      "sex           0.0\n",
      "cp            0.0\n",
      "trestbps    100.0\n",
      "chol        248.0\n",
      "fbs           0.0\n",
      "restecg       0.0\n",
      "thalach     122.0\n",
      "exang         0.0\n",
      "oldpeak       1.0\n",
      "slope         1.0\n",
      "ca            0.0\n",
      "thal          2.0\n",
      "target        1.0\n",
      "Name: 5, dtype: float64\n"
     ]
    }
   ],
   "source": [
    "print(df.iloc[5])"
   ]
  },
  {
   "cell_type": "markdown",
   "id": "a2058173-f23e-4b3d-b5f0-a9226332dc3b",
   "metadata": {},
   "source": [
    "### 07) Perform Condition Selection on DataFrame"
   ]
  },
  {
   "cell_type": "code",
   "execution_count": 7,
   "id": "3be8b774-1ab4-460d-85f3-ea105892ee8c",
   "metadata": {},
   "outputs": [
    {
     "name": "stdout",
     "output_type": "stream",
     "text": [
      "      age  sex  cp  trestbps  chol  fbs  restecg  thalach  exang  oldpeak  \\\n",
      "0      52    1   0       125   212    0        1      168      0      1.0   \n",
      "1      53    1   0       140   203    1        0      155      1      3.1   \n",
      "2      70    1   0       145   174    0        1      125      1      2.6   \n",
      "3      61    1   0       148   203    0        1      161      0      0.0   \n",
      "6      58    1   0       114   318    0        2      140      0      4.4   \n",
      "...   ...  ...  ..       ...   ...  ...      ...      ...    ...      ...   \n",
      "1019   47    1   0       112   204    0        1      143      0      0.1   \n",
      "1020   59    1   1       140   221    0        1      164      1      0.0   \n",
      "1021   60    1   0       125   258    0        0      141      1      2.8   \n",
      "1022   47    1   0       110   275    0        0      118      1      1.0   \n",
      "1024   54    1   0       120   188    0        1      113      0      1.4   \n",
      "\n",
      "      slope  ca  thal  target  \n",
      "0         2   2     3       0  \n",
      "1         0   0     3       0  \n",
      "2         0   0     3       0  \n",
      "3         2   1     3       0  \n",
      "6         0   3     1       0  \n",
      "...     ...  ..   ...     ...  \n",
      "1019      2   0     2       1  \n",
      "1020      2   0     2       1  \n",
      "1021      1   1     3       0  \n",
      "1022      1   1     2       0  \n",
      "1024      1   1     3       0  \n",
      "\n",
      "[713 rows x 14 columns]\n"
     ]
    }
   ],
   "source": [
    "print(df[df['sex'] == 1])"
   ]
  },
  {
   "cell_type": "code",
   "execution_count": 8,
   "id": "f6665c05-5804-4778-aa62-56fa2dfc499a",
   "metadata": {},
   "outputs": [
    {
     "name": "stdout",
     "output_type": "stream",
     "text": [
      "     age  sex  cp  trestbps  chol  fbs  restecg  thalach  exang  oldpeak  \\\n",
      "2     70    1   0       145   174    0        1      125      1      2.6   \n",
      "10    71    0   0       112   149    0        1      125      0      1.6   \n",
      "33    70    1   2       160   269    0        1      112      1      2.9   \n",
      "99    76    0   2       140   197    0        2      116      0      1.1   \n",
      "160   77    1   0       125   304    0        0      162      1      0.0   \n",
      "162   77    1   0       125   304    0        0      162      1      0.0   \n",
      "269   71    0   2       110   265    1        0      130      0      0.0   \n",
      "285   71    0   2       110   265    1        0      130      0      0.0   \n",
      "287   71    0   1       160   302    0        1      162      0      0.4   \n",
      "312   70    1   2       160   269    0        1      112      1      2.9   \n",
      "313   74    0   1       120   269    0        0      121      1      0.2   \n",
      "328   70    1   0       130   322    0        0      109      0      2.4   \n",
      "387   77    1   0       125   304    0        0      162      1      0.0   \n",
      "401   71    0   0       112   149    0        1      125      0      1.6   \n",
      "402   70    1   1       156   245    0        0      143      0      0.0   \n",
      "413   70    1   0       130   322    0        0      109      0      2.4   \n",
      "500   71    0   0       112   149    0        1      125      0      1.6   \n",
      "535   76    0   2       140   197    0        2      116      0      1.1   \n",
      "546   70    1   0       130   322    0        0      109      0      2.4   \n",
      "577   70    1   0       130   322    0        0      109      0      2.4   \n",
      "590   74    0   1       120   269    0        0      121      1      0.2   \n",
      "592   70    1   2       160   269    0        1      112      1      2.9   \n",
      "605   71    0   2       110   265    1        0      130      0      0.0   \n",
      "648   71    0   0       112   149    0        1      125      0      1.6   \n",
      "702   71    0   1       160   302    0        1      162      0      0.4   \n",
      "715   70    1   1       156   245    0        0      143      0      0.0   \n",
      "724   74    0   1       120   269    0        0      121      1      0.2   \n",
      "769   71    0   2       110   265    1        0      130      0      0.0   \n",
      "816   70    1   1       156   245    0        0      143      0      0.0   \n",
      "840   70    1   0       145   174    0        1      125      1      2.6   \n",
      "884   70    1   0       145   174    0        1      125      1      2.6   \n",
      "948   70    1   0       145   174    0        1      125      1      2.6   \n",
      "965   76    0   2       140   197    0        2      116      0      1.1   \n",
      "989   71    0   1       160   302    0        1      162      0      0.4   \n",
      "\n",
      "     slope  ca  thal  target  \n",
      "2        0   0     3       0  \n",
      "10       1   0     2       1  \n",
      "33       1   1     3       0  \n",
      "99       1   0     2       1  \n",
      "160      2   3     2       0  \n",
      "162      2   3     2       0  \n",
      "269      2   1     2       1  \n",
      "285      2   1     2       1  \n",
      "287      2   2     2       1  \n",
      "312      1   1     3       0  \n",
      "313      2   1     2       1  \n",
      "328      1   3     2       0  \n",
      "387      2   3     2       0  \n",
      "401      1   0     2       1  \n",
      "402      2   0     2       1  \n",
      "413      1   3     2       0  \n",
      "500      1   0     2       1  \n",
      "535      1   0     2       1  \n",
      "546      1   3     2       0  \n",
      "577      1   3     2       0  \n",
      "590      2   1     2       1  \n",
      "592      1   1     3       0  \n",
      "605      2   1     2       1  \n",
      "648      1   0     2       1  \n",
      "702      2   2     2       1  \n",
      "715      2   0     2       1  \n",
      "724      2   1     2       1  \n",
      "769      2   1     2       1  \n",
      "816      2   0     2       1  \n",
      "840      0   0     3       0  \n",
      "884      0   0     3       0  \n",
      "948      0   0     3       0  \n",
      "965      1   0     2       1  \n",
      "989      2   2     2       1  \n"
     ]
    }
   ],
   "source": [
    "print(df[df['age'] >= 70])"
   ]
  },
  {
   "cell_type": "markdown",
   "id": "ec688eb1-4d2d-4b51-a36a-a52c039e0068",
   "metadata": {},
   "source": [
    "### 8. Compute the sum of targeted patients Column"
   ]
  },
  {
   "cell_type": "code",
   "execution_count": 9,
   "id": "07624312-7fa7-41c0-872f-827acb3065cd",
   "metadata": {},
   "outputs": [
    {
     "name": "stdout",
     "output_type": "stream",
     "text": [
      "526\n"
     ]
    }
   ],
   "source": [
    "print(df[\"target\"].sum())"
   ]
  },
  {
   "cell_type": "markdown",
   "id": "4d2cce71-7638-4624-835a-6c133b903353",
   "metadata": {},
   "source": [
    "### 9. Compute the mean of blood pressure Column"
   ]
  },
  {
   "cell_type": "code",
   "execution_count": 11,
   "id": "0244ee6b-01e8-48b5-b056-c2e1aecebb26",
   "metadata": {},
   "outputs": [
    {
     "name": "stdout",
     "output_type": "stream",
     "text": [
      "131.612\n"
     ]
    }
   ],
   "source": [
    "print(round(df['trestbps'].mean(), 3))"
   ]
  },
  {
   "cell_type": "markdown",
   "id": "c73ea6d8-cf88-4875-8784-0a7dbe7f53fe",
   "metadata": {},
   "source": [
    "### 10. Count non-null value"
   ]
  },
  {
   "cell_type": "code",
   "execution_count": 12,
   "id": "f613d36b-df6e-4a15-99fd-8b8d2d83a1fd",
   "metadata": {},
   "outputs": [
    {
     "name": "stdout",
     "output_type": "stream",
     "text": [
      "age         0\n",
      "sex         0\n",
      "cp          0\n",
      "trestbps    0\n",
      "chol        0\n",
      "fbs         0\n",
      "restecg     0\n",
      "thalach     0\n",
      "exang       0\n",
      "oldpeak     0\n",
      "slope       0\n",
      "ca          0\n",
      "thal        0\n",
      "target      0\n",
      "dtype: int64\n"
     ]
    }
   ],
   "source": [
    "print(df.isnull().sum())"
   ]
  },
  {
   "cell_type": "markdown",
   "id": "8cd09719-ef04-4451-82bb-39b4c138148d",
   "metadata": {},
   "source": [
    "### 11. Minimum value of blood pressure Column"
   ]
  },
  {
   "cell_type": "code",
   "execution_count": 13,
   "id": "23b55c46-a768-4be7-8cf9-ceea90aedf8f",
   "metadata": {},
   "outputs": [
    {
     "name": "stdout",
     "output_type": "stream",
     "text": [
      "94\n"
     ]
    }
   ],
   "source": [
    "print(df['trestbps'].min())"
   ]
  },
  {
   "cell_type": "markdown",
   "id": "cc2ae22a-729e-4fc9-ac49-337a7ddff6b1",
   "metadata": {},
   "source": [
    "### 12 Maximum value of blood pressure Column"
   ]
  },
  {
   "cell_type": "code",
   "execution_count": 14,
   "id": "fced7d5f-9a18-4664-9939-c11608384e88",
   "metadata": {},
   "outputs": [
    {
     "name": "stdout",
     "output_type": "stream",
     "text": [
      "200\n"
     ]
    }
   ],
   "source": [
    "print(df['trestbps'].max())"
   ]
  },
  {
   "cell_type": "markdown",
   "id": "19e7fc11-81de-4585-9f45-ba39ca744482",
   "metadata": {},
   "source": [
    "### 13. The number of rows in the dataset"
   ]
  },
  {
   "cell_type": "code",
   "execution_count": 15,
   "id": "6b4d17ce-b625-4225-a5ed-af8104c3366e",
   "metadata": {},
   "outputs": [
    {
     "name": "stdout",
     "output_type": "stream",
     "text": [
      "1025\n"
     ]
    }
   ],
   "source": [
    "print(df.shape[0])"
   ]
  },
  {
   "cell_type": "markdown",
   "id": "47b00534-f6b5-40c4-84e6-a93da9687211",
   "metadata": {},
   "source": [
    "### 14. The number of columns in the dataset"
   ]
  },
  {
   "cell_type": "code",
   "execution_count": 16,
   "id": "d135d583-7e49-46fd-bd10-50f3055b0243",
   "metadata": {},
   "outputs": [
    {
     "name": "stdout",
     "output_type": "stream",
     "text": [
      "14\n"
     ]
    }
   ],
   "source": [
    "print(df.shape[1])"
   ]
  },
  {
   "cell_type": "markdown",
   "id": "e993e5e0-42ed-4345-816e-25a6d611815c",
   "metadata": {},
   "source": [
    "### 15. Print the name of all the columns"
   ]
  },
  {
   "cell_type": "code",
   "execution_count": 17,
   "id": "ce4d4cb5-a2c2-4aea-873d-3c635063f057",
   "metadata": {},
   "outputs": [
    {
     "name": "stdout",
     "output_type": "stream",
     "text": [
      "Index(['age', 'sex', 'cp', 'trestbps', 'chol', 'fbs', 'restecg', 'thalach',\n",
      "       'exang', 'oldpeak', 'slope', 'ca', 'thal', 'target'],\n",
      "      dtype='object')\n"
     ]
    }
   ],
   "source": [
    "print(df.columns)"
   ]
  },
  {
   "cell_type": "markdown",
   "id": "ec944b48-e2b5-4a48-bcc0-406a5992f4fe",
   "metadata": {},
   "source": [
    "### 16. Dataset indexes information"
   ]
  },
  {
   "cell_type": "code",
   "execution_count": 18,
   "id": "fabaf6d6-d8dd-4286-aae2-9fedfa0638dc",
   "metadata": {},
   "outputs": [
    {
     "name": "stdout",
     "output_type": "stream",
     "text": [
      "RangeIndex(start=0, stop=1025, step=1)\n"
     ]
    }
   ],
   "source": [
    "print(df.index)"
   ]
  },
  {
   "cell_type": "markdown",
   "id": "fefe649d-50a1-431a-9d36-cc12f73ab3cc",
   "metadata": {},
   "source": [
    "### 17. Dataset summary"
   ]
  },
  {
   "cell_type": "code",
   "execution_count": 19,
   "id": "6747c5b2-1241-497a-bd58-9c95efe9a1a5",
   "metadata": {},
   "outputs": [
    {
     "name": "stdout",
     "output_type": "stream",
     "text": [
      "               age          sex           cp     trestbps        chol  \\\n",
      "count  1025.000000  1025.000000  1025.000000  1025.000000  1025.00000   \n",
      "mean     54.434146     0.695610     0.942439   131.611707   246.00000   \n",
      "std       9.072290     0.460373     1.029641    17.516718    51.59251   \n",
      "min      29.000000     0.000000     0.000000    94.000000   126.00000   \n",
      "25%      48.000000     0.000000     0.000000   120.000000   211.00000   \n",
      "50%      56.000000     1.000000     1.000000   130.000000   240.00000   \n",
      "75%      61.000000     1.000000     2.000000   140.000000   275.00000   \n",
      "max      77.000000     1.000000     3.000000   200.000000   564.00000   \n",
      "\n",
      "               fbs      restecg      thalach        exang      oldpeak  \\\n",
      "count  1025.000000  1025.000000  1025.000000  1025.000000  1025.000000   \n",
      "mean      0.149268     0.529756   149.114146     0.336585     1.071512   \n",
      "std       0.356527     0.527878    23.005724     0.472772     1.175053   \n",
      "min       0.000000     0.000000    71.000000     0.000000     0.000000   \n",
      "25%       0.000000     0.000000   132.000000     0.000000     0.000000   \n",
      "50%       0.000000     1.000000   152.000000     0.000000     0.800000   \n",
      "75%       0.000000     1.000000   166.000000     1.000000     1.800000   \n",
      "max       1.000000     2.000000   202.000000     1.000000     6.200000   \n",
      "\n",
      "             slope           ca         thal       target  \n",
      "count  1025.000000  1025.000000  1025.000000  1025.000000  \n",
      "mean      1.385366     0.754146     2.323902     0.513171  \n",
      "std       0.617755     1.030798     0.620660     0.500070  \n",
      "min       0.000000     0.000000     0.000000     0.000000  \n",
      "25%       1.000000     0.000000     2.000000     0.000000  \n",
      "50%       1.000000     0.000000     2.000000     1.000000  \n",
      "75%       2.000000     1.000000     3.000000     1.000000  \n",
      "max       2.000000     4.000000     3.000000     1.000000  \n"
     ]
    }
   ],
   "source": [
    "print(df.describe())"
   ]
  },
  {
   "cell_type": "markdown",
   "id": "1fb4a708-0528-4fb5-b6f8-35079219c8d8",
   "metadata": {},
   "source": [
    "### 18. Summarize all the columns"
   ]
  },
  {
   "cell_type": "code",
   "execution_count": 20,
   "id": "8f2cfeb4-536c-4be4-b092-021e551ad0bc",
   "metadata": {},
   "outputs": [
    {
     "name": "stdout",
     "output_type": "stream",
     "text": [
      "               age          sex           cp     trestbps        chol  \\\n",
      "count  1025.000000  1025.000000  1025.000000  1025.000000  1025.00000   \n",
      "mean     54.434146     0.695610     0.942439   131.611707   246.00000   \n",
      "std       9.072290     0.460373     1.029641    17.516718    51.59251   \n",
      "min      29.000000     0.000000     0.000000    94.000000   126.00000   \n",
      "25%      48.000000     0.000000     0.000000   120.000000   211.00000   \n",
      "50%      56.000000     1.000000     1.000000   130.000000   240.00000   \n",
      "75%      61.000000     1.000000     2.000000   140.000000   275.00000   \n",
      "max      77.000000     1.000000     3.000000   200.000000   564.00000   \n",
      "\n",
      "               fbs      restecg      thalach        exang      oldpeak  \\\n",
      "count  1025.000000  1025.000000  1025.000000  1025.000000  1025.000000   \n",
      "mean      0.149268     0.529756   149.114146     0.336585     1.071512   \n",
      "std       0.356527     0.527878    23.005724     0.472772     1.175053   \n",
      "min       0.000000     0.000000    71.000000     0.000000     0.000000   \n",
      "25%       0.000000     0.000000   132.000000     0.000000     0.000000   \n",
      "50%       0.000000     1.000000   152.000000     0.000000     0.800000   \n",
      "75%       0.000000     1.000000   166.000000     1.000000     1.800000   \n",
      "max       1.000000     2.000000   202.000000     1.000000     6.200000   \n",
      "\n",
      "             slope           ca         thal       target  \n",
      "count  1025.000000  1025.000000  1025.000000  1025.000000  \n",
      "mean      1.385366     0.754146     2.323902     0.513171  \n",
      "std       0.617755     1.030798     0.620660     0.500070  \n",
      "min       0.000000     0.000000     0.000000     0.000000  \n",
      "25%       1.000000     0.000000     2.000000     0.000000  \n",
      "50%       1.000000     0.000000     2.000000     1.000000  \n",
      "75%       2.000000     1.000000     3.000000     1.000000  \n",
      "max       2.000000     4.000000     3.000000     1.000000  \n"
     ]
    }
   ],
   "source": [
    "print(df.describe(include='all'))"
   ]
  },
  {
   "cell_type": "markdown",
   "id": "df2e11d1-9267-4c35-a26f-68345c0c17b0",
   "metadata": {},
   "source": [
    "### 19. Identify Nominal attributes from data sets "
   ]
  },
  {
   "cell_type": "code",
   "execution_count": 21,
   "id": "3237c510-caf1-4840-b3c4-20e025162a17",
   "metadata": {},
   "outputs": [
    {
     "name": "stdout",
     "output_type": "stream",
     "text": [
      "Nominal attributes ['restecg', 'thal']\n"
     ]
    }
   ],
   "source": [
    "nominal = ['restecg', 'thal']\n",
    "ordinal = ['cp', 'slope']\n",
    "binary = ['sex', 'fbs', 'exang', 'target']\n",
    "numeric = ['age', 'trestbps', 'chol', 'thalach', 'oldpeak', 'ca']\n",
    "print(\"Nominal attributes\", nominal)"
   ]
  },
  {
   "cell_type": "markdown",
   "id": "5860774f-efca-432a-ab01-5b75ee6a3f2f",
   "metadata": {},
   "source": [
    "### 20. Identify Numeric attributes from data sets"
   ]
  },
  {
   "cell_type": "code",
   "execution_count": 22,
   "id": "98c12a5a-00d7-480e-81ee-6f0baf5cd4e5",
   "metadata": {},
   "outputs": [
    {
     "name": "stdout",
     "output_type": "stream",
     "text": [
      "Numeric attributes ['age', 'trestbps', 'chol', 'thalach', 'oldpeak', 'ca']\n"
     ]
    }
   ],
   "source": [
    "numeric = ['age', 'trestbps', 'chol', 'thalach', 'oldpeak', 'ca']\n",
    "print(\"Numeric attributes\", numeric)"
   ]
  },
  {
   "cell_type": "markdown",
   "id": "d7471d36-e073-4fcd-b9c2-aaa3e39c706d",
   "metadata": {},
   "source": [
    "### 21. Identify Ordinal attributes from data sets"
   ]
  },
  {
   "cell_type": "code",
   "execution_count": 23,
   "id": "7ad471bd-d62a-4893-b47c-d44d7c60d62e",
   "metadata": {},
   "outputs": [
    {
     "name": "stdout",
     "output_type": "stream",
     "text": [
      "Ordinal attributes ['cp', 'slope']\n"
     ]
    }
   ],
   "source": [
    "ordinal = ['cp', 'slope']\n",
    "print(\"Ordinal attributes\", ordinal)"
   ]
  },
  {
   "cell_type": "markdown",
   "id": "aef7597f-071f-45e1-ab27-8d3e707bdc9c",
   "metadata": {},
   "source": [
    "### 22. Identify Binary attributes from data sets"
   ]
  },
  {
   "cell_type": "code",
   "execution_count": 24,
   "id": "52187202-4130-48a1-8eb8-944472061379",
   "metadata": {},
   "outputs": [
    {
     "name": "stdout",
     "output_type": "stream",
     "text": [
      "Binary attributes ['sex', 'fbs', 'exang', 'target']\n"
     ]
    }
   ],
   "source": [
    "binary = ['sex', 'fbs', 'exang', 'target']\n",
    "print(\"Binary attributes\", binary)"
   ]
  },
  {
   "cell_type": "markdown",
   "id": "3052fb85-e637-4c7b-8ec5-03fc2eb3b5dd",
   "metadata": {},
   "source": [
    "### 23. Covariance between numeric columns"
   ]
  },
  {
   "cell_type": "code",
   "execution_count": 25,
   "id": "0444c301-45c0-47ac-8284-5d89c466dcfd",
   "metadata": {},
   "outputs": [
    {
     "name": "stdout",
     "output_type": "stream",
     "text": [
      "                 age       sex        cp    trestbps         chol       fbs  \\\n",
      "age        82.306450 -0.431198 -0.672251   43.085733   102.890625  0.392164   \n",
      "sex        -0.431198  0.211944 -0.019491   -0.636863    -4.708984  0.004465   \n",
      "cp         -0.672251 -0.019491  1.060160    0.688565    -4.336914  0.029108   \n",
      "trestbps   43.085733 -0.636863  0.688565  306.835410   115.657227  1.135165   \n",
      "chol      102.890625 -4.708984 -4.336914  115.657227  2661.787109  0.495117   \n",
      "fbs         0.392164  0.004465  0.029108    1.135165     0.495117  0.127111   \n",
      "restecg    -0.635490 -0.013395  0.023687   -1.144685    -4.014648 -0.019583   \n",
      "thalach   -81.446089 -0.522838  7.268296  -15.822822   -25.841797 -0.072719   \n",
      "exang       0.378144  0.030288 -0.195451    0.506798     1.643555  0.008303   \n",
      "oldpeak     2.218825  0.045812 -0.211407    3.857971     3.933301  0.004549   \n",
      "slope      -0.947742 -0.007584  0.083727   -1.303344    -0.454102 -0.013634   \n",
      "ca          2.539458  0.053021 -0.187017    1.887842     3.949219  0.050406   \n",
      "thal        0.407093  0.056697 -0.104385    0.644446     3.209961 -0.009333   \n",
      "target     -1.040392 -0.064346  0.223903   -1.215584    -2.579102 -0.007339   \n",
      "\n",
      "           restecg     thalach     exang   oldpeak     slope        ca  \\\n",
      "age      -0.635490  -81.446089  0.378144  2.218825 -0.947742  2.539458   \n",
      "sex      -0.013395   -0.522838  0.030288  0.045812 -0.007584  0.053021   \n",
      "cp        0.023687    7.268296 -0.195451 -0.211407  0.083727 -0.187017   \n",
      "trestbps -1.144685  -15.822822  0.506798  3.857971 -1.303344  1.887842   \n",
      "chol     -4.014648  -25.841797  1.643555  3.933301 -0.454102  3.949219   \n",
      "fbs      -0.019583   -0.072719  0.008303  0.004549 -0.013634  0.050406   \n",
      "restecg   0.278655    0.587909 -0.016373 -0.031085  0.028073 -0.042482   \n",
      "thalach   0.587909  529.263325 -4.136114 -9.456022  5.618078 -4.929917   \n",
      "exang    -0.016373   -4.136114  0.223514  0.172684 -0.078077  0.052558   \n",
      "oldpeak  -0.031085   -9.456022  0.172684  1.380750 -0.417527  0.268673   \n",
      "slope     0.028073    5.618078 -0.078077 -0.417527  0.381622 -0.046765   \n",
      "ca       -0.042482   -4.929917  0.052558  0.268673 -0.046765  1.062544   \n",
      "thal     -0.006718   -1.400290  0.057865  0.147810 -0.036076  0.095335   \n",
      "target    0.035496    4.865194 -0.103558 -0.257632  0.106736 -0.196954   \n",
      "\n",
      "              thal    target  \n",
      "age       0.407093 -1.040392  \n",
      "sex       0.056697 -0.064346  \n",
      "cp       -0.104385  0.223903  \n",
      "trestbps  0.644446 -1.215584  \n",
      "chol      3.209961 -2.579102  \n",
      "fbs      -0.009333 -0.007339  \n",
      "restecg  -0.006718  0.035496  \n",
      "thalach  -1.400290  4.865194  \n",
      "exang     0.057865 -0.103558  \n",
      "oldpeak   0.147810 -0.257632  \n",
      "slope    -0.036076  0.106736  \n",
      "ca        0.095335 -0.196954  \n",
      "thal      0.385219 -0.104856  \n",
      "target   -0.104856  0.250071  \n"
     ]
    }
   ],
   "source": [
    "print(df.cov(numeric_only = True))"
   ]
  },
  {
   "cell_type": "markdown",
   "id": "a32d11e1-5edc-434f-aeaf-a91001bd7ac8",
   "metadata": {},
   "source": [
    "### 24. Correlation between numeric columns"
   ]
  },
  {
   "cell_type": "code",
   "execution_count": 26,
   "id": "3a086db6-ffda-4fa5-b926-0602286ea2f0",
   "metadata": {},
   "outputs": [
    {
     "name": "stdout",
     "output_type": "stream",
     "text": [
      "               age       sex        cp  trestbps      chol       fbs  \\\n",
      "age       1.000000 -0.103240 -0.071966  0.271121  0.219823  0.121243   \n",
      "sex      -0.103240  1.000000 -0.041119 -0.078974 -0.198258  0.027200   \n",
      "cp       -0.071966 -0.041119  1.000000  0.038177 -0.081641  0.079294   \n",
      "trestbps  0.271121 -0.078974  0.038177  1.000000  0.127977  0.181767   \n",
      "chol      0.219823 -0.198258 -0.081641  0.127977  1.000000  0.026917   \n",
      "fbs       0.121243  0.027200  0.079294  0.181767  0.026917  1.000000   \n",
      "restecg  -0.132696 -0.055117  0.043581 -0.123794 -0.147410 -0.104051   \n",
      "thalach  -0.390227 -0.049365  0.306839 -0.039264 -0.021772 -0.008866   \n",
      "exang     0.088163  0.139157 -0.401513  0.061197  0.067382  0.049261   \n",
      "oldpeak   0.208137  0.084687 -0.174733  0.187434  0.064880  0.010859   \n",
      "slope    -0.169105 -0.026666  0.131633 -0.120445 -0.014248 -0.061902   \n",
      "ca        0.271551  0.111729 -0.176206  0.104554  0.074259  0.137156   \n",
      "thal      0.072297  0.198424 -0.163341  0.059276  0.100244 -0.042177   \n",
      "target   -0.229324 -0.279501  0.434854 -0.138772 -0.099966 -0.041164   \n",
      "\n",
      "           restecg   thalach     exang   oldpeak     slope        ca  \\\n",
      "age      -0.132696 -0.390227  0.088163  0.208137 -0.169105  0.271551   \n",
      "sex      -0.055117 -0.049365  0.139157  0.084687 -0.026666  0.111729   \n",
      "cp        0.043581  0.306839 -0.401513 -0.174733  0.131633 -0.176206   \n",
      "trestbps -0.123794 -0.039264  0.061197  0.187434 -0.120445  0.104554   \n",
      "chol     -0.147410 -0.021772  0.067382  0.064880 -0.014248  0.074259   \n",
      "fbs      -0.104051 -0.008866  0.049261  0.010859 -0.061902  0.137156   \n",
      "restecg   1.000000  0.048411 -0.065606 -0.050114  0.086086 -0.078072   \n",
      "thalach   0.048411  1.000000 -0.380281 -0.349796  0.395308 -0.207888   \n",
      "exang    -0.065606 -0.380281  1.000000  0.310844 -0.267335  0.107849   \n",
      "oldpeak  -0.050114 -0.349796  0.310844  1.000000 -0.575189  0.221816   \n",
      "slope     0.086086  0.395308 -0.267335 -0.575189  1.000000 -0.073440   \n",
      "ca       -0.078072 -0.207888  0.107849  0.221816 -0.073440  1.000000   \n",
      "thal     -0.020504 -0.098068  0.197201  0.202672 -0.094090  0.149014   \n",
      "target    0.134468  0.422895 -0.438029 -0.438441  0.345512 -0.382085   \n",
      "\n",
      "              thal    target  \n",
      "age       0.072297 -0.229324  \n",
      "sex       0.198424 -0.279501  \n",
      "cp       -0.163341  0.434854  \n",
      "trestbps  0.059276 -0.138772  \n",
      "chol      0.100244 -0.099966  \n",
      "fbs      -0.042177 -0.041164  \n",
      "restecg  -0.020504  0.134468  \n",
      "thalach  -0.098068  0.422895  \n",
      "exang     0.197201 -0.438029  \n",
      "oldpeak   0.202672 -0.438441  \n",
      "slope    -0.094090  0.345512  \n",
      "ca        0.149014 -0.382085  \n",
      "thal      1.000000 -0.337838  \n",
      "target   -0.337838  1.000000  \n"
     ]
    }
   ],
   "source": [
    "print(df.corr(numeric_only = True))"
   ]
  },
  {
   "cell_type": "markdown",
   "id": "938ecb6f-803e-47bf-9d12-06bd6a3638dd",
   "metadata": {},
   "source": [
    "### 25. Histogram for Blood pressure"
   ]
  },
  {
   "cell_type": "code",
   "execution_count": 27,
   "id": "ed9c717a-dae7-4cc0-8e53-b8c05642b7db",
   "metadata": {},
   "outputs": [
    {
     "data": {
      "image/png": "[encoded data removed]",
      "text/plain": [
       "<Figure size 640x480 with 1 Axes>"
      ]
     },
     "metadata": {},
     "output_type": "display_data"
    }
   ],
   "source": [
    "plt.hist(df['trestbps'], color='skyblue', edgecolor='black')\n",
    "plt.title('Distribution of blood pressure')\n",
    "plt.xlabel('blood pressure')\n",
    "plt.ylabel('Frequency')\n",
    "plt.show()"
   ]
  },
  {
   "cell_type": "markdown",
   "id": "4ae4ebc6-e5ab-467e-bd3f-a7a770e6982a",
   "metadata": {},
   "source": [
    "### 26. Box Plot for Blood pressure"
   ]
  },
  {
   "cell_type": "code",
   "execution_count": 28,
   "id": "d986cbd5-01f8-40ed-a7df-af28b38f2a91",
   "metadata": {},
   "outputs": [
    {
     "data": {
      "image/png": "[encoded data removed]",
      "text/plain": [
       "<Figure size 640x480 with 1 Axes>"
      ]
     },
     "metadata": {},
     "output_type": "display_data"
    }
   ],
   "source": [
    "plt.boxplot(df['trestbps'], vert=False)\n",
    "plt.title('Box Plot of blood pressure')\n",
    "plt.xlabel('blood pressure')\n",
    "plt.show()"
   ]
  },
  {
   "cell_type": "markdown",
   "id": "bf35c2db-b4f0-46e7-b744-e7d8b0212b93",
   "metadata": {},
   "source": [
    "### 27. Scatter Plot: Blood pressure v/s Chol"
   ]
  },
  {
   "cell_type": "code",
   "execution_count": 29,
   "id": "bb93f2e4-cdbb-479b-83ec-d1588eafbaa2",
   "metadata": {},
   "outputs": [
    {
     "data": {
      "image/png": "[encoded data removed]",
      "text/plain": [
       "<Figure size 640x480 with 1 Axes>"
      ]
     },
     "metadata": {},
     "output_type": "display_data"
    }
   ],
   "source": [
    "plt.scatter(df['trestbps'], df['chol'])\n",
    "plt.title('Scatter Plot: blood pressure vs chol')\n",
    "plt.xlabel('blood pressure')\n",
    "plt.ylabel('chol')\n",
    "plt.show()"
   ]
  }
 ],
 "metadata": {
  "kernelspec": {
   "display_name": "Python 3 (ipykernel)",
   "language": "python",
   "name": "python3"
  },
  "language_info": {
   "codemirror_mode": {
    "name": "ipython",
    "version": 3
   },
   "file_extension": ".py",
   "mimetype": "text/x-python",
   "name": "python",
   "nbconvert_exporter": "python",
   "pygments_lexer": "ipython3",
   "version": "3.12.7"
  }
 },
 "nbformat": 4,
 "nbformat_minor": 5
}
