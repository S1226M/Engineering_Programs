{
 "cells": [
  {
   "cell_type": "markdown",
   "id": "d4baf55f-d413-4d79-a1b4-0381eacb671b",
   "metadata": {},
   "source": [
    "## List - Introduction"
   ]
  },
  {
   "cell_type": "code",
   "execution_count": 1,
   "id": "a36b577b-e38f-43c1-aa00-0b0184eb886a",
   "metadata": {},
   "outputs": [],
   "source": [
    "Mylist = ['john','smith','david','mark','eric','smith']"
   ]
  },
  {
   "cell_type": "code",
   "execution_count": 3,
   "id": "d3f53402-87ab-42aa-addc-c07fd927260e",
   "metadata": {},
   "outputs": [],
   "source": [
    "list1 = [1,2,3,4,5]"
   ]
  },
  {
   "cell_type": "code",
   "execution_count": 5,
   "id": "8f367d42-3491-4250-b636-458a33abc0c4",
   "metadata": {},
   "outputs": [
    {
     "name": "stdout",
     "output_type": "stream",
     "text": [
      "david\n"
     ]
    }
   ],
   "source": [
    "# to print david\n",
    "print(Mylist[2])"
   ]
  },
  {
   "cell_type": "code",
   "execution_count": 7,
   "id": "5269c19f-fc52-4879-a5f2-6e6c382750f4",
   "metadata": {},
   "outputs": [
    {
     "name": "stdout",
     "output_type": "stream",
     "text": [
      "eric\n"
     ]
    }
   ],
   "source": [
    "#to print eric - positive and negative indexing\n",
    "print(Mylist[-2])"
   ]
  },
  {
   "cell_type": "code",
   "execution_count": 9,
   "id": "28e91f5f-7a0b-4671-8592-4e38d294e8f9",
   "metadata": {},
   "outputs": [],
   "source": [
    "# use list()\n",
    "list2 = list((1,2,3,4,5))  "
   ]
  },
  {
   "cell_type": "code",
   "execution_count": 11,
   "id": "ba0f4905-a029-485b-9624-ab155f3ec86c",
   "metadata": {},
   "outputs": [
    {
     "data": {
      "text/plain": [
       "[1, 2, 3, 4, 5]"
      ]
     },
     "execution_count": 11,
     "metadata": {},
     "output_type": "execute_result"
    }
   ],
   "source": [
    "list2"
   ]
  },
  {
   "cell_type": "code",
   "execution_count": 13,
   "id": "18969d39-eb1e-4d41-a2de-4cba0bc4cf10",
   "metadata": {},
   "outputs": [],
   "source": [
    "Mylist = ['john', 15, 14.6, True, 'steven', 5+7j]   #list is heterogeneous"
   ]
  },
  {
   "cell_type": "code",
   "execution_count": 15,
   "id": "cf14ad7c-c89e-4814-b4f8-ffbfa2d47937",
   "metadata": {},
   "outputs": [],
   "source": [
    "# List is mutable\n",
    "Mylist = [15, 9, 12, 18, 7, 10]"
   ]
  },
  {
   "cell_type": "code",
   "execution_count": 17,
   "id": "9b55a29e-306d-4442-89c2-4a51c27ec25c",
   "metadata": {},
   "outputs": [],
   "source": [
    "Mylist[0] = 30"
   ]
  },
  {
   "cell_type": "code",
   "execution_count": 19,
   "id": "4ccf5ed6-8a1a-4620-b3b7-864295ebddb7",
   "metadata": {},
   "outputs": [],
   "source": [
    "Mylist[4] = 'John'"
   ]
  },
  {
   "cell_type": "code",
   "execution_count": 21,
   "id": "058bbed4-1937-4415-a23d-4f3f365c75f6",
   "metadata": {},
   "outputs": [
    {
     "data": {
      "text/plain": [
       "[30, 9, 12, 18, 'John', 10]"
      ]
     },
     "execution_count": 21,
     "metadata": {},
     "output_type": "execute_result"
    }
   ],
   "source": [
    "Mylist"
   ]
  },
  {
   "cell_type": "code",
   "execution_count": 23,
   "id": "cf610974-e499-4911-81bd-fbaa3409f86a",
   "metadata": {},
   "outputs": [
    {
     "data": {
      "text/plain": [
       "6"
      ]
     },
     "execution_count": 23,
     "metadata": {},
     "output_type": "execute_result"
    }
   ],
   "source": [
    "len(Mylist) #no. of elements in the list"
   ]
  },
  {
   "cell_type": "code",
   "execution_count": 25,
   "id": "d96ca771-4ee2-4716-afb9-8848e74f8d7a",
   "metadata": {},
   "outputs": [],
   "source": [
    "Mylist.append(50) # Modified even by adding an object"
   ]
  },
  {
   "cell_type": "code",
   "execution_count": 27,
   "id": "501d248e-2d07-4321-861e-bb7eb20f8548",
   "metadata": {},
   "outputs": [
    {
     "data": {
      "text/plain": [
       "[30, 9, 12, 18, 'John', 10, 50]"
      ]
     },
     "execution_count": 27,
     "metadata": {},
     "output_type": "execute_result"
    }
   ],
   "source": [
    "Mylist"
   ]
  },
  {
   "cell_type": "code",
   "execution_count": 29,
   "id": "028207ef-2db0-4304-845b-d9205d548573",
   "metadata": {},
   "outputs": [
    {
     "data": {
      "text/plain": [
       "7"
      ]
     },
     "execution_count": 29,
     "metadata": {},
     "output_type": "execute_result"
    }
   ],
   "source": [
    "len(Mylist)"
   ]
  },
  {
   "cell_type": "markdown",
   "id": "6b228c1b-6345-4180-bad3-4aad61136cef",
   "metadata": {},
   "source": [
    "## List Operations"
   ]
  },
  {
   "cell_type": "code",
   "execution_count": 32,
   "id": "f20f8e21-aa01-47fb-8387-a05c95041ae5",
   "metadata": {},
   "outputs": [],
   "source": [
    "list1 = [1,2,3,4,5,6,7,8,9,10]"
   ]
  },
  {
   "cell_type": "markdown",
   "id": "9e0c41d2-8122-43cd-9376-db1b1480c02a",
   "metadata": {},
   "source": [
    "### Index Operator"
   ]
  },
  {
   "cell_type": "code",
   "execution_count": 35,
   "id": "4e952598-e613-4f33-8dd0-449d2c6b1280",
   "metadata": {},
   "outputs": [
    {
     "name": "stdout",
     "output_type": "stream",
     "text": [
      "7\n"
     ]
    }
   ],
   "source": [
    "print(list1[6])"
   ]
  },
  {
   "cell_type": "code",
   "execution_count": 37,
   "id": "b82a6459-444d-4d59-8c80-6aeba04a25c0",
   "metadata": {},
   "outputs": [
    {
     "name": "stdout",
     "output_type": "stream",
     "text": [
      "7\n"
     ]
    }
   ],
   "source": [
    "print(list1[-4])"
   ]
  },
  {
   "cell_type": "code",
   "execution_count": 39,
   "id": "4d4a510c-da6c-47e2-9205-83334adb963d",
   "metadata": {},
   "outputs": [],
   "source": [
    "list1[6] = 15"
   ]
  },
  {
   "cell_type": "code",
   "execution_count": 41,
   "id": "0a3204b3-0caa-43d1-ab53-69b607b30f30",
   "metadata": {},
   "outputs": [
    {
     "data": {
      "text/plain": [
       "[1, 2, 3, 4, 5, 6, 15, 8, 9, 10]"
      ]
     },
     "execution_count": 41,
     "metadata": {},
     "output_type": "execute_result"
    }
   ],
   "source": [
    "list1"
   ]
  },
  {
   "cell_type": "code",
   "execution_count": 43,
   "id": "c0fcd46f-737f-42ce-a1e2-4f0ea0fe2d9f",
   "metadata": {},
   "outputs": [],
   "source": [
    "x = list1[6]"
   ]
  },
  {
   "cell_type": "code",
   "execution_count": 45,
   "id": "b37bd4c5-70b9-4545-b3af-a6c346644beb",
   "metadata": {},
   "outputs": [
    {
     "data": {
      "text/plain": [
       "15"
      ]
     },
     "execution_count": 45,
     "metadata": {},
     "output_type": "execute_result"
    }
   ],
   "source": [
    "x"
   ]
  },
  {
   "cell_type": "markdown",
   "id": "ff2e32fe-866d-4b10-a44d-b154568423b8",
   "metadata": {},
   "source": [
    "### List Slicing"
   ]
  },
  {
   "cell_type": "code",
   "execution_count": 48,
   "id": "84a0b7eb-10a2-474d-9aed-222fcb14f9bc",
   "metadata": {},
   "outputs": [],
   "source": [
    "list1 = [1,2,3,4,5,6,7,8,9,10]"
   ]
  },
  {
   "cell_type": "code",
   "execution_count": 50,
   "id": "a15e9dfb-f98e-4b11-bc02-5a8c4d93ae5c",
   "metadata": {},
   "outputs": [
    {
     "data": {
      "text/plain": [
       "[1, 2, 3, 4, 5, 6, 7, 8, 9, 10]"
      ]
     },
     "execution_count": 50,
     "metadata": {},
     "output_type": "execute_result"
    }
   ],
   "source": [
    "list1[:]"
   ]
  },
  {
   "cell_type": "code",
   "execution_count": 52,
   "id": "e257b6d5-207f-4ea3-9e43-795717673c70",
   "metadata": {},
   "outputs": [
    {
     "data": {
      "text/plain": [
       "[1, 2, 3, 4, 5]"
      ]
     },
     "execution_count": 52,
     "metadata": {},
     "output_type": "execute_result"
    }
   ],
   "source": [
    "list1[:5]"
   ]
  },
  {
   "cell_type": "code",
   "execution_count": 54,
   "id": "3cbd1d4e-5eda-480a-babd-8a8ce74a7a71",
   "metadata": {},
   "outputs": [
    {
     "data": {
      "text/plain": [
       "[4, 5, 6, 7, 8, 9, 10]"
      ]
     },
     "execution_count": 54,
     "metadata": {},
     "output_type": "execute_result"
    }
   ],
   "source": [
    "list1[3:]"
   ]
  },
  {
   "cell_type": "code",
   "execution_count": 56,
   "id": "55616746-31b6-4939-b11a-0333e1a82c70",
   "metadata": {},
   "outputs": [
    {
     "data": {
      "text/plain": [
       "[4, 5, 6, 7, 8]"
      ]
     },
     "execution_count": 56,
     "metadata": {},
     "output_type": "execute_result"
    }
   ],
   "source": [
    "list1[3:8]"
   ]
  },
  {
   "cell_type": "code",
   "execution_count": 58,
   "id": "e8d87563-acb0-453f-8d17-2bef6e168a93",
   "metadata": {},
   "outputs": [
    {
     "data": {
      "text/plain": [
       "[1, 3, 5, 7, 9]"
      ]
     },
     "execution_count": 58,
     "metadata": {},
     "output_type": "execute_result"
    }
   ],
   "source": [
    "list1[0:10:2]"
   ]
  },
  {
   "cell_type": "code",
   "execution_count": 60,
   "id": "cdde11f3-0c0f-4571-96c5-8b7f56f83083",
   "metadata": {},
   "outputs": [
    {
     "data": {
      "text/plain": [
       "[10, 9, 8, 7, 6, 5, 4, 3, 2, 1]"
      ]
     },
     "execution_count": 60,
     "metadata": {},
     "output_type": "execute_result"
    }
   ],
   "source": [
    "list1[-1:-11:-1]"
   ]
  },
  {
   "cell_type": "markdown",
   "id": "123f730c-4dd4-4184-8876-86bedde4e764",
   "metadata": {},
   "source": [
    "### List Concatenation"
   ]
  },
  {
   "cell_type": "code",
   "execution_count": 63,
   "id": "8fb87881-5248-4df9-8f74-a3cd4510bec2",
   "metadata": {},
   "outputs": [],
   "source": [
    "lis1 = [1,2,3]"
   ]
  },
  {
   "cell_type": "code",
   "execution_count": 65,
   "id": "f7c2ed26-1ac1-43e1-89a1-04dc3b45e750",
   "metadata": {},
   "outputs": [],
   "source": [
    "lis2 = [8,9,10]"
   ]
  },
  {
   "cell_type": "code",
   "execution_count": 67,
   "id": "a102d621-811c-4bc9-a205-ad93b5ad0efa",
   "metadata": {},
   "outputs": [
    {
     "data": {
      "text/plain": [
       "[1, 2, 3, 1, 2, 3, 4, 5]"
      ]
     },
     "execution_count": 67,
     "metadata": {},
     "output_type": "execute_result"
    }
   ],
   "source": [
    "lis1 + list2"
   ]
  },
  {
   "cell_type": "code",
   "execution_count": 69,
   "id": "c877e4dd-b07b-4ac6-98fb-7ba22125040a",
   "metadata": {},
   "outputs": [],
   "source": [
    "lis3 = lis1 + lis2"
   ]
  },
  {
   "cell_type": "code",
   "execution_count": 71,
   "id": "f6e88ba3-6a51-4010-87b1-ca09fce4c86a",
   "metadata": {},
   "outputs": [
    {
     "data": {
      "text/plain": [
       "[1, 2, 3, 8, 9, 10]"
      ]
     },
     "execution_count": 71,
     "metadata": {},
     "output_type": "execute_result"
    }
   ],
   "source": [
    "lis3"
   ]
  },
  {
   "cell_type": "code",
   "execution_count": 73,
   "id": "8a544985-e374-4d08-9a19-0751469017b9",
   "metadata": {},
   "outputs": [
    {
     "ename": "TypeError",
     "evalue": "can only concatenate list (not \"int\") to list",
     "output_type": "error",
     "traceback": [
      "\u001b[1;31m---------------------------------------------------------------------------\u001b[0m",
      "\u001b[1;31mTypeError\u001b[0m                                 Traceback (most recent call last)",
      "Cell \u001b[1;32mIn[73], line 1\u001b[0m\n\u001b[1;32m----> 1\u001b[0m lis1 \u001b[38;5;241m+\u001b[39m \u001b[38;5;241m4\u001b[39m\n",
      "\u001b[1;31mTypeError\u001b[0m: can only concatenate list (not \"int\") to list"
     ]
    }
   ],
   "source": [
    "lis1 + 4"
   ]
  },
  {
   "cell_type": "code",
   "execution_count": 78,
   "id": "0c4f1283-fae0-4d89-8530-719ab512d2d4",
   "metadata": {},
   "outputs": [],
   "source": [
    "lis3 = lis1 + [4]"
   ]
  },
  {
   "cell_type": "code",
   "execution_count": 80,
   "id": "93374ee4-f270-4e66-93ac-c036d69c2c6d",
   "metadata": {},
   "outputs": [
    {
     "data": {
      "text/plain": [
       "[1, 2, 3, 4, 5, 6, 4]"
      ]
     },
     "execution_count": 80,
     "metadata": {},
     "output_type": "execute_result"
    }
   ],
   "source": [
    "lis3"
   ]
  },
  {
   "cell_type": "code",
   "execution_count": 82,
   "id": "73c029a5-96c1-47d0-a7bd-d56195e98fd3",
   "metadata": {},
   "outputs": [],
   "source": [
    "lis1.extend([4,5,6])"
   ]
  },
  {
   "cell_type": "code",
   "execution_count": 84,
   "id": "1c7ab7ef-1044-4230-ba80-e71c096140bf",
   "metadata": {},
   "outputs": [
    {
     "data": {
      "text/plain": [
       "[1, 2, 3, 4, 5, 6, 4, 5, 6]"
      ]
     },
     "execution_count": 84,
     "metadata": {},
     "output_type": "execute_result"
    }
   ],
   "source": [
    "lis1"
   ]
  },
  {
   "cell_type": "code",
   "execution_count": 86,
   "id": "5f76f428-3ac5-4045-9d86-d433489086b8",
   "metadata": {},
   "outputs": [
    {
     "data": {
      "text/plain": [
       "[8, 9, 10]"
      ]
     },
     "execution_count": 86,
     "metadata": {},
     "output_type": "execute_result"
    }
   ],
   "source": [
    "lis2"
   ]
  },
  {
   "cell_type": "code",
   "execution_count": 88,
   "id": "689e9538-087d-460e-ac35-01fc23433cff",
   "metadata": {},
   "outputs": [],
   "source": [
    "lis2 = lis2 + [11,12,13]"
   ]
  },
  {
   "cell_type": "code",
   "execution_count": 90,
   "id": "3b5186d7-4e11-4052-851c-adf3f1e3eed9",
   "metadata": {},
   "outputs": [
    {
     "data": {
      "text/plain": [
       "[8, 9, 10, 11, 12, 13]"
      ]
     },
     "execution_count": 90,
     "metadata": {},
     "output_type": "execute_result"
    }
   ],
   "source": [
    "lis2"
   ]
  },
  {
   "cell_type": "markdown",
   "id": "7820d409-2244-44da-b689-56bce66a44e9",
   "metadata": {},
   "source": [
    "### List Repitition"
   ]
  },
  {
   "cell_type": "code",
   "execution_count": 93,
   "id": "f10122c3-b992-44e9-bada-6ac91eeeb553",
   "metadata": {},
   "outputs": [],
   "source": [
    "lis1 = [1,2,3]"
   ]
  },
  {
   "cell_type": "code",
   "execution_count": 95,
   "id": "586a846c-72b3-4822-a090-41a989321138",
   "metadata": {},
   "outputs": [
    {
     "data": {
      "text/plain": [
       "[1, 2, 3, 1, 2, 3]"
      ]
     },
     "execution_count": 95,
     "metadata": {},
     "output_type": "execute_result"
    }
   ],
   "source": [
    "lis1 * 2"
   ]
  },
  {
   "cell_type": "code",
   "execution_count": 97,
   "id": "1ee31f8e-7f7c-4f8b-a34c-df81da8882e8",
   "metadata": {},
   "outputs": [
    {
     "data": {
      "text/plain": [
       "[1, 2, 3]"
      ]
     },
     "execution_count": 97,
     "metadata": {},
     "output_type": "execute_result"
    }
   ],
   "source": [
    "lis1"
   ]
  },
  {
   "cell_type": "code",
   "execution_count": 99,
   "id": "21f39f39-f861-49f1-9766-d1b8b22fbb95",
   "metadata": {},
   "outputs": [
    {
     "data": {
      "text/plain": [
       "[1, 2, 3, 1, 2, 3, 1, 2, 3]"
      ]
     },
     "execution_count": 99,
     "metadata": {},
     "output_type": "execute_result"
    }
   ],
   "source": [
    "lis1 * 3"
   ]
  },
  {
   "cell_type": "code",
   "execution_count": 101,
   "id": "98d71ef9-cc85-4602-9c5e-57262765a5df",
   "metadata": {},
   "outputs": [
    {
     "ename": "TypeError",
     "evalue": "unsupported operand type(s) for *: 'type' and 'float'",
     "output_type": "error",
     "traceback": [
      "\u001b[1;31m---------------------------------------------------------------------------\u001b[0m",
      "\u001b[1;31mTypeError\u001b[0m                                 Traceback (most recent call last)",
      "Cell \u001b[1;32mIn[101], line 1\u001b[0m\n\u001b[1;32m----> 1\u001b[0m \u001b[38;5;28mlist\u001b[39m \u001b[38;5;241m*\u001b[39m \u001b[38;5;241m2.5\u001b[39m\n",
      "\u001b[1;31mTypeError\u001b[0m: unsupported operand type(s) for *: 'type' and 'float'"
     ]
    }
   ],
   "source": [
    "list * 2.5"
   ]
  },
  {
   "cell_type": "markdown",
   "id": "2dbcbaf8-d5b3-4f8a-8d6a-d8be630f0433",
   "metadata": {},
   "source": [
    "### in and not in operator"
   ]
  },
  {
   "cell_type": "code",
   "execution_count": 104,
   "id": "e18687fe-4f2a-4cf2-a893-0be9238ba799",
   "metadata": {},
   "outputs": [],
   "source": [
    "list1 = [1,2,3]"
   ]
  },
  {
   "cell_type": "code",
   "execution_count": 106,
   "id": "78316f73-a8b1-453a-aacf-2d0110a89cc6",
   "metadata": {},
   "outputs": [
    {
     "data": {
      "text/plain": [
       "[1, 2, 3]"
      ]
     },
     "execution_count": 106,
     "metadata": {},
     "output_type": "execute_result"
    }
   ],
   "source": [
    "list1"
   ]
  },
  {
   "cell_type": "code",
   "execution_count": 108,
   "id": "c2985336-01a9-4889-ae23-8b344b7d3aad",
   "metadata": {},
   "outputs": [
    {
     "data": {
      "text/plain": [
       "True"
      ]
     },
     "execution_count": 108,
     "metadata": {},
     "output_type": "execute_result"
    }
   ],
   "source": [
    "1 in list1"
   ]
  },
  {
   "cell_type": "code",
   "execution_count": 110,
   "id": "2b6a55d2-530d-42d5-a56e-0806264a4b0a",
   "metadata": {},
   "outputs": [
    {
     "name": "stdout",
     "output_type": "stream",
     "text": [
      "Found\n"
     ]
    }
   ],
   "source": [
    "if 3 in list1:\n",
    "    print('Found')\n",
    "else:\n",
    "    print('Not Found')"
   ]
  },
  {
   "cell_type": "code",
   "execution_count": 112,
   "id": "f345a586-18d3-4cf3-9678-1772eecf0e8f",
   "metadata": {},
   "outputs": [
    {
     "data": {
      "text/plain": [
       "False"
      ]
     },
     "execution_count": 112,
     "metadata": {},
     "output_type": "execute_result"
    }
   ],
   "source": [
    "5 in list1"
   ]
  },
  {
   "cell_type": "code",
   "execution_count": 114,
   "id": "f8366620-a233-48bf-84d0-b158b9db965d",
   "metadata": {},
   "outputs": [
    {
     "data": {
      "text/plain": [
       "True"
      ]
     },
     "execution_count": 114,
     "metadata": {},
     "output_type": "execute_result"
    }
   ],
   "source": [
    "5 not in list1"
   ]
  },
  {
   "cell_type": "markdown",
   "id": "20354f0e-06aa-4772-adb5-1abe6681e4c8",
   "metadata": {},
   "source": [
    "# Iterating a List"
   ]
  },
  {
   "cell_type": "code",
   "execution_count": 117,
   "id": "bb6c0dbc-2fc4-42e9-a9ba-f0813276c6fd",
   "metadata": {},
   "outputs": [],
   "source": [
    "list1 = [5,6,7,8,9]"
   ]
  },
  {
   "cell_type": "code",
   "execution_count": 119,
   "id": "829ec5f6-19e5-4da4-9484-341638203cd9",
   "metadata": {},
   "outputs": [
    {
     "name": "stdout",
     "output_type": "stream",
     "text": [
      "5\n",
      "6\n",
      "7\n",
      "8\n",
      "9\n"
     ]
    }
   ],
   "source": [
    "for i in list1:\n",
    "    print(i)"
   ]
  },
  {
   "cell_type": "code",
   "execution_count": 121,
   "id": "d106cf4e-c2c7-4e16-9b16-1d78ae9027af",
   "metadata": {},
   "outputs": [
    {
     "name": "stdout",
     "output_type": "stream",
     "text": [
      "5\n",
      "6\n",
      "7\n",
      "8\n",
      "9\n"
     ]
    }
   ],
   "source": [
    "for i in range(len(list1)):\n",
    "    print(list1[i])"
   ]
  },
  {
   "cell_type": "code",
   "execution_count": 123,
   "id": "b0519672-9d79-46d6-afc6-ebee7e320034",
   "metadata": {},
   "outputs": [
    {
     "name": "stdout",
     "output_type": "stream",
     "text": [
      "9\n",
      "8\n",
      "7\n",
      "6\n",
      "5\n"
     ]
    }
   ],
   "source": [
    "for i in range(len(list1)-1,-1,-1):\n",
    "    print(list1[i])"
   ]
  },
  {
   "cell_type": "code",
   "execution_count": 125,
   "id": "b1a5dab0-8d7f-4b71-8d7e-b5b2666c752c",
   "metadata": {},
   "outputs": [
    {
     "name": "stdout",
     "output_type": "stream",
     "text": [
      "9\n",
      "8\n",
      "7\n",
      "6\n",
      "5\n"
     ]
    }
   ],
   "source": [
    "for i in range(-1,-len(list1)-1,-1):\n",
    "    print(list1[i])"
   ]
  },
  {
   "cell_type": "code",
   "execution_count": 127,
   "id": "ad947444-29bf-417c-b27e-9898805dde7b",
   "metadata": {},
   "outputs": [
    {
     "name": "stdout",
     "output_type": "stream",
     "text": [
      "5\n",
      "6\n",
      "7\n",
      "8\n",
      "9\n"
     ]
    }
   ],
   "source": [
    "i = 0\n",
    "while i<len(list1):\n",
    "    print(list1[i])\n",
    "    i = i+1"
   ]
  },
  {
   "cell_type": "code",
   "execution_count": 129,
   "id": "7e66c2fd-8639-4dd2-a4d3-92063e40fe10",
   "metadata": {},
   "outputs": [
    {
     "name": "stdout",
     "output_type": "stream",
     "text": [
      "9\n",
      "8\n",
      "7\n",
      "6\n",
      "5\n"
     ]
    }
   ],
   "source": [
    "i = len(list1)-1\n",
    "while i>=0:\n",
    "    print(list1[i])\n",
    "    i = i-1"
   ]
  }
 ],
 "metadata": {
  "kernelspec": {
   "display_name": "Python 3 (ipykernel)",
   "language": "python",
   "name": "python3"
  },
  "language_info": {
   "codemirror_mode": {
    "name": "ipython",
    "version": 3
   },
   "file_extension": ".py",
   "mimetype": "text/x-python",
   "name": "python",
   "nbconvert_exporter": "python",
   "pygments_lexer": "ipython3",
   "version": "3.12.7"
  }
 },
 "nbformat": 4,
 "nbformat_minor": 5
}
