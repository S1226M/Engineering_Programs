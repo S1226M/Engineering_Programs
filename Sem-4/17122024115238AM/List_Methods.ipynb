{
 "cells": [
  {
   "cell_type": "code",
   "execution_count": 1,
   "id": "df27a310-5538-4697-b2cd-010d240e0b3b",
   "metadata": {},
   "outputs": [],
   "source": [
    "l1 = [5,6,7,8,9]"
   ]
  },
  {
   "cell_type": "markdown",
   "id": "2e0b7f50-87b0-4c86-bdde-5f6948339f83",
   "metadata": {},
   "source": [
    "## append(x)"
   ]
  },
  {
   "cell_type": "code",
   "execution_count": 4,
   "id": "80d8413c-9c5d-40da-b8f6-66dc719c2373",
   "metadata": {},
   "outputs": [],
   "source": [
    "l1.append(10)"
   ]
  },
  {
   "cell_type": "code",
   "execution_count": 6,
   "id": "fc827178-b063-42fe-beab-0000297ffbec",
   "metadata": {},
   "outputs": [
    {
     "data": {
      "text/plain": [
       "6"
      ]
     },
     "execution_count": 6,
     "metadata": {},
     "output_type": "execute_result"
    }
   ],
   "source": [
    "len(l1)"
   ]
  },
  {
   "cell_type": "code",
   "execution_count": 8,
   "id": "fab1773d-63ab-453d-ab6d-94de34d6b8fc",
   "metadata": {},
   "outputs": [
    {
     "data": {
      "text/plain": [
       "[5, 6, 7, 8, 9, 10]"
      ]
     },
     "execution_count": 8,
     "metadata": {},
     "output_type": "execute_result"
    }
   ],
   "source": [
    "l1"
   ]
  },
  {
   "cell_type": "code",
   "execution_count": 10,
   "id": "3dd49882-dd13-4e85-906a-f71e4b9bdfaa",
   "metadata": {},
   "outputs": [
    {
     "ename": "TypeError",
     "evalue": "list.append() takes exactly one argument (3 given)",
     "output_type": "error",
     "traceback": [
      "\u001b[1;31m---------------------------------------------------------------------------\u001b[0m",
      "\u001b[1;31mTypeError\u001b[0m                                 Traceback (most recent call last)",
      "Cell \u001b[1;32mIn[10], line 1\u001b[0m\n\u001b[1;32m----> 1\u001b[0m l1\u001b[38;5;241m.\u001b[39mappend(\u001b[38;5;241m11\u001b[39m,\u001b[38;5;241m12\u001b[39m,\u001b[38;5;241m13\u001b[39m)\n",
      "\u001b[1;31mTypeError\u001b[0m: list.append() takes exactly one argument (3 given)"
     ]
    }
   ],
   "source": [
    "l1.append(11,12,13)"
   ]
  },
  {
   "cell_type": "code",
   "execution_count": 14,
   "id": "0c1fccbe-1eba-4a81-9423-20c80d292ab0",
   "metadata": {},
   "outputs": [
    {
     "data": {
      "text/plain": [
       "[5, 6, 7, 8, 9]"
      ]
     },
     "execution_count": 14,
     "metadata": {},
     "output_type": "execute_result"
    }
   ],
   "source": [
    "l1"
   ]
  },
  {
   "cell_type": "markdown",
   "id": "528d09f5-55bd-4e59-a52b-79f1b9d2914d",
   "metadata": {},
   "source": [
    "## extend(iterable)"
   ]
  },
  {
   "cell_type": "code",
   "execution_count": 17,
   "id": "cb2a833e-262d-4f6b-b7ba-533f4ac59ba0",
   "metadata": {},
   "outputs": [],
   "source": [
    "l1 = [5,6,7,8,9]"
   ]
  },
  {
   "cell_type": "code",
   "execution_count": 19,
   "id": "31c13d62-72ed-4caf-8c86-cbad9d0d63ba",
   "metadata": {},
   "outputs": [],
   "source": [
    "l1.extend([10,11,12])"
   ]
  },
  {
   "cell_type": "code",
   "execution_count": 21,
   "id": "e1ba299f-636b-4764-b8bc-7f5832975c61",
   "metadata": {},
   "outputs": [
    {
     "data": {
      "text/plain": [
       "[5, 6, 7, 8, 9, 10, 11, 12]"
      ]
     },
     "execution_count": 21,
     "metadata": {},
     "output_type": "execute_result"
    }
   ],
   "source": [
    "l1"
   ]
  },
  {
   "cell_type": "code",
   "execution_count": 23,
   "id": "67609bec-0c17-41ec-9ac3-0e535699ae40",
   "metadata": {},
   "outputs": [],
   "source": [
    "l1.extend('abc')"
   ]
  },
  {
   "cell_type": "code",
   "execution_count": 25,
   "id": "d1d342f8-061e-4623-8ec3-659cea13b3e9",
   "metadata": {},
   "outputs": [
    {
     "data": {
      "text/plain": [
       "[5, 6, 7, 8, 9, 10, 11, 12, 'a', 'b', 'c']"
      ]
     },
     "execution_count": 25,
     "metadata": {},
     "output_type": "execute_result"
    }
   ],
   "source": [
    "l1"
   ]
  },
  {
   "cell_type": "markdown",
   "id": "b1e3c503-7fb5-486c-a094-6d62ff33ad4c",
   "metadata": {},
   "source": [
    "## insert(i,x)"
   ]
  },
  {
   "cell_type": "code",
   "execution_count": 28,
   "id": "e7069c06-5297-4c9d-9bf7-408ab0284fc2",
   "metadata": {},
   "outputs": [],
   "source": [
    "l1 = [5,6,7,8,9]"
   ]
  },
  {
   "cell_type": "code",
   "execution_count": 30,
   "id": "7781db0e-8601-418d-ad7e-4d278eba8662",
   "metadata": {},
   "outputs": [],
   "source": [
    "l1.insert(0,10)"
   ]
  },
  {
   "cell_type": "code",
   "execution_count": 32,
   "id": "55c99d74-6cbd-487c-9c8f-ede09c514b9b",
   "metadata": {},
   "outputs": [
    {
     "data": {
      "text/plain": [
       "[10, 5, 6, 7, 8, 9]"
      ]
     },
     "execution_count": 32,
     "metadata": {},
     "output_type": "execute_result"
    }
   ],
   "source": [
    "l1"
   ]
  },
  {
   "cell_type": "code",
   "execution_count": 34,
   "id": "5174691a-c0b4-43a4-bc71-dbf03171856e",
   "metadata": {},
   "outputs": [],
   "source": [
    "l1.insert(10,0)"
   ]
  },
  {
   "cell_type": "code",
   "execution_count": 36,
   "id": "e6a92a2c-0ae2-4bc8-8d09-0196d0caf722",
   "metadata": {},
   "outputs": [
    {
     "data": {
      "text/plain": [
       "[10, 5, 6, 7, 8, 9, 0]"
      ]
     },
     "execution_count": 36,
     "metadata": {},
     "output_type": "execute_result"
    }
   ],
   "source": [
    "l1"
   ]
  },
  {
   "cell_type": "code",
   "execution_count": 38,
   "id": "c083fa24-24d3-4719-b2ba-60e630b954cd",
   "metadata": {},
   "outputs": [],
   "source": [
    "l1.insert(3,20)"
   ]
  },
  {
   "cell_type": "code",
   "execution_count": 40,
   "id": "0680f589-28cb-4512-a4d2-35b03ec2dd96",
   "metadata": {},
   "outputs": [
    {
     "data": {
      "text/plain": [
       "[10, 5, 6, 20, 7, 8, 9, 0]"
      ]
     },
     "execution_count": 40,
     "metadata": {},
     "output_type": "execute_result"
    }
   ],
   "source": [
    "l1"
   ]
  },
  {
   "cell_type": "markdown",
   "id": "2bc28c24-3d1e-4fa7-b3e6-9297890a54bc",
   "metadata": {},
   "source": [
    "## copy()"
   ]
  },
  {
   "cell_type": "code",
   "execution_count": 43,
   "id": "52930198-be26-4e59-b088-be00824516e5",
   "metadata": {},
   "outputs": [],
   "source": [
    "l1 = [5,6,7,8,9]"
   ]
  },
  {
   "cell_type": "code",
   "execution_count": 45,
   "id": "8c9b4528-5424-4232-ab45-a5558b7fe17e",
   "metadata": {},
   "outputs": [],
   "source": [
    "l2 = l1.copy()"
   ]
  },
  {
   "cell_type": "code",
   "execution_count": 47,
   "id": "cbda5115-5f4c-4491-a9ba-d33b64a4b7c2",
   "metadata": {},
   "outputs": [
    {
     "data": {
      "text/plain": [
       "[5, 6, 7, 8, 9]"
      ]
     },
     "execution_count": 47,
     "metadata": {},
     "output_type": "execute_result"
    }
   ],
   "source": [
    "l2"
   ]
  },
  {
   "cell_type": "code",
   "execution_count": 49,
   "id": "2c2b7e3f-1ea9-4dce-8c98-ac7e9b81fd3f",
   "metadata": {},
   "outputs": [
    {
     "data": {
      "text/plain": [
       "[5, 6, 7, 8, 9]"
      ]
     },
     "execution_count": 49,
     "metadata": {},
     "output_type": "execute_result"
    }
   ],
   "source": [
    "l1"
   ]
  },
  {
   "cell_type": "markdown",
   "id": "32d22373-e8f6-49d7-b97f-65489d06783b",
   "metadata": {},
   "source": [
    "## pop()"
   ]
  },
  {
   "cell_type": "code",
   "execution_count": 52,
   "id": "095ebdbe-6399-4496-8d61-cd2165fcbfea",
   "metadata": {},
   "outputs": [],
   "source": [
    "l1 = [5,6,7,8,9]"
   ]
  },
  {
   "cell_type": "code",
   "execution_count": 54,
   "id": "6d77f645-a2f0-43b9-b6c1-f16066ce8f78",
   "metadata": {},
   "outputs": [
    {
     "ename": "IndexError",
     "evalue": "pop index out of range",
     "output_type": "error",
     "traceback": [
      "\u001b[1;31m---------------------------------------------------------------------------\u001b[0m",
      "\u001b[1;31mIndexError\u001b[0m                                Traceback (most recent call last)",
      "Cell \u001b[1;32mIn[54], line 1\u001b[0m\n\u001b[1;32m----> 1\u001b[0m l1\u001b[38;5;241m.\u001b[39mpop(\u001b[38;5;241m10\u001b[39m)\n",
      "\u001b[1;31mIndexError\u001b[0m: pop index out of range"
     ]
    }
   ],
   "source": [
    "l1.pop(10)"
   ]
  },
  {
   "cell_type": "code",
   "execution_count": 56,
   "id": "b794b164-d4eb-47bb-abe7-acea6002a7ce",
   "metadata": {},
   "outputs": [
    {
     "data": {
      "text/plain": [
       "9"
      ]
     },
     "execution_count": 56,
     "metadata": {},
     "output_type": "execute_result"
    }
   ],
   "source": [
    "l1.pop()   #by default delete the last element"
   ]
  },
  {
   "cell_type": "code",
   "execution_count": 58,
   "id": "77a33a28-1021-4223-bf34-57b3c80f9b58",
   "metadata": {},
   "outputs": [
    {
     "data": {
      "text/plain": [
       "[5, 6, 7, 8]"
      ]
     },
     "execution_count": 58,
     "metadata": {},
     "output_type": "execute_result"
    }
   ],
   "source": [
    "l1"
   ]
  },
  {
   "cell_type": "code",
   "execution_count": 60,
   "id": "ea263773-830e-4c93-b440-a5baee179f19",
   "metadata": {},
   "outputs": [
    {
     "data": {
      "text/plain": [
       "5"
      ]
     },
     "execution_count": 60,
     "metadata": {},
     "output_type": "execute_result"
    }
   ],
   "source": [
    "l1.pop(0) #optional argument to set index value to be poped"
   ]
  },
  {
   "cell_type": "code",
   "execution_count": 62,
   "id": "b3f7d10c-5cef-43c2-a310-74612048173f",
   "metadata": {},
   "outputs": [
    {
     "data": {
      "text/plain": [
       "[6, 7, 8]"
      ]
     },
     "execution_count": 62,
     "metadata": {},
     "output_type": "execute_result"
    }
   ],
   "source": [
    "l1"
   ]
  },
  {
   "cell_type": "code",
   "execution_count": 64,
   "id": "26ef94d2-ed05-475c-9d41-44bf6b90432a",
   "metadata": {},
   "outputs": [
    {
     "data": {
      "text/plain": [
       "7"
      ]
     },
     "execution_count": 64,
     "metadata": {},
     "output_type": "execute_result"
    }
   ],
   "source": [
    "l1.pop(1)"
   ]
  },
  {
   "cell_type": "code",
   "execution_count": 66,
   "id": "22963c29-6571-4128-b93d-2b1bde96700d",
   "metadata": {},
   "outputs": [
    {
     "data": {
      "text/plain": [
       "[6, 8]"
      ]
     },
     "execution_count": 66,
     "metadata": {},
     "output_type": "execute_result"
    }
   ],
   "source": [
    "l1"
   ]
  },
  {
   "cell_type": "markdown",
   "id": "1b4ccab0-2daa-4ca6-80d4-8d74779389e8",
   "metadata": {},
   "source": [
    "## remove()"
   ]
  },
  {
   "cell_type": "code",
   "execution_count": 69,
   "id": "35fd1fa1-a794-4356-ab43-57921e92ab0a",
   "metadata": {},
   "outputs": [],
   "source": [
    "l1 = [5,6,7,8,9]"
   ]
  },
  {
   "cell_type": "code",
   "execution_count": 71,
   "id": "a86bdfc5-c490-439f-9b2b-3741cc126f1d",
   "metadata": {},
   "outputs": [],
   "source": [
    "l1.remove(7)"
   ]
  },
  {
   "cell_type": "code",
   "execution_count": 73,
   "id": "258db132-5abc-4d39-b93b-87dafcd81b74",
   "metadata": {},
   "outputs": [
    {
     "data": {
      "text/plain": [
       "[5, 6, 8, 9]"
      ]
     },
     "execution_count": 73,
     "metadata": {},
     "output_type": "execute_result"
    }
   ],
   "source": [
    "l1"
   ]
  },
  {
   "cell_type": "code",
   "execution_count": 75,
   "id": "380133d8-23e2-45a8-b495-b65adb175c4a",
   "metadata": {},
   "outputs": [],
   "source": [
    "l1 = [5,6,7,8,9,5,6,7,8,9]"
   ]
  },
  {
   "cell_type": "code",
   "execution_count": 77,
   "id": "62980723-4640-4dd5-ae78-44c549faf698",
   "metadata": {},
   "outputs": [],
   "source": [
    "l1.remove(6)"
   ]
  },
  {
   "cell_type": "code",
   "execution_count": 79,
   "id": "5ecea0e3-1c9c-41ae-86cb-640e02dc3ac6",
   "metadata": {},
   "outputs": [
    {
     "data": {
      "text/plain": [
       "[5, 7, 8, 9, 5, 6, 7, 8, 9]"
      ]
     },
     "execution_count": 79,
     "metadata": {},
     "output_type": "execute_result"
    }
   ],
   "source": [
    "l1"
   ]
  },
  {
   "cell_type": "code",
   "execution_count": 81,
   "id": "ad3941e2-4ef2-4ef1-98f5-d27ee2868862",
   "metadata": {},
   "outputs": [],
   "source": [
    "l1 = [5,6,7,8,9]"
   ]
  },
  {
   "cell_type": "code",
   "execution_count": 83,
   "id": "55903c73-34b9-42d0-a5c3-f2ca43492b07",
   "metadata": {},
   "outputs": [
    {
     "ename": "ValueError",
     "evalue": "list.remove(x): x not in list",
     "output_type": "error",
     "traceback": [
      "\u001b[1;31m---------------------------------------------------------------------------\u001b[0m",
      "\u001b[1;31mValueError\u001b[0m                                Traceback (most recent call last)",
      "Cell \u001b[1;32mIn[83], line 1\u001b[0m\n\u001b[1;32m----> 1\u001b[0m l1\u001b[38;5;241m.\u001b[39mremove(\u001b[38;5;241m10\u001b[39m)\n",
      "\u001b[1;31mValueError\u001b[0m: list.remove(x): x not in list"
     ]
    }
   ],
   "source": [
    "l1.remove(10)"
   ]
  },
  {
   "cell_type": "markdown",
   "id": "22cd09f1-8ada-4dcc-844b-9db9226b81f9",
   "metadata": {},
   "source": [
    "## clear()"
   ]
  },
  {
   "cell_type": "code",
   "execution_count": 86,
   "id": "5e292905-d609-4f0c-a509-68b3adac9c59",
   "metadata": {},
   "outputs": [],
   "source": [
    "l1 = [5,6,7,8,9]"
   ]
  },
  {
   "cell_type": "code",
   "execution_count": 88,
   "id": "fd7ae617-b043-4ce8-8ced-9ef875c38578",
   "metadata": {},
   "outputs": [
    {
     "data": {
      "text/plain": [
       "[5, 6, 7, 8, 9]"
      ]
     },
     "execution_count": 88,
     "metadata": {},
     "output_type": "execute_result"
    }
   ],
   "source": [
    "l1"
   ]
  },
  {
   "cell_type": "code",
   "execution_count": 90,
   "id": "a70184e2-71ff-4d20-81a4-0a6f5296c243",
   "metadata": {},
   "outputs": [],
   "source": [
    "l1.clear()"
   ]
  },
  {
   "cell_type": "code",
   "execution_count": 92,
   "id": "66809fee-f59d-4c35-8667-29fc1624e959",
   "metadata": {},
   "outputs": [
    {
     "data": {
      "text/plain": [
       "[]"
      ]
     },
     "execution_count": 92,
     "metadata": {},
     "output_type": "execute_result"
    }
   ],
   "source": [
    "l1"
   ]
  },
  {
   "cell_type": "markdown",
   "id": "e3eb7580-368c-4115-8b12-2323f0daaa72",
   "metadata": {},
   "source": [
    "## index(x)"
   ]
  },
  {
   "cell_type": "code",
   "execution_count": 97,
   "id": "e16e06c0-221d-489b-9888-62adc44484aa",
   "metadata": {},
   "outputs": [],
   "source": [
    "l1 = [5,6,7,5,8,9,6,10,6]"
   ]
  },
  {
   "cell_type": "code",
   "execution_count": 99,
   "id": "7f97a774-caef-43d3-8f42-9d4b3932873d",
   "metadata": {},
   "outputs": [
    {
     "data": {
      "text/plain": [
       "4"
      ]
     },
     "execution_count": 99,
     "metadata": {},
     "output_type": "execute_result"
    }
   ],
   "source": [
    "l1.index(8)"
   ]
  },
  {
   "cell_type": "code",
   "execution_count": 101,
   "id": "895a7874-f66e-4fcb-a604-8325e0b2728d",
   "metadata": {},
   "outputs": [
    {
     "data": {
      "text/plain": [
       "1"
      ]
     },
     "execution_count": 101,
     "metadata": {},
     "output_type": "execute_result"
    }
   ],
   "source": [
    "l1.index(6)"
   ]
  },
  {
   "cell_type": "code",
   "execution_count": 103,
   "id": "2a4b2aa7-a339-4f18-8599-9f3e1418317e",
   "metadata": {},
   "outputs": [
    {
     "data": {
      "text/plain": [
       "6"
      ]
     },
     "execution_count": 103,
     "metadata": {},
     "output_type": "execute_result"
    }
   ],
   "source": [
    "l1.index(6,2)"
   ]
  },
  {
   "cell_type": "code",
   "execution_count": 105,
   "id": "2cc031c8-2d91-4c65-a8f8-30af8ee5436e",
   "metadata": {},
   "outputs": [
    {
     "data": {
      "text/plain": [
       "8"
      ]
     },
     "execution_count": 105,
     "metadata": {},
     "output_type": "execute_result"
    }
   ],
   "source": [
    "l1.index(6,7)"
   ]
  },
  {
   "cell_type": "code",
   "execution_count": 107,
   "id": "5cf8a020-d6e4-4bbb-b46d-5f45735c5184",
   "metadata": {},
   "outputs": [
    {
     "data": {
      "text/plain": [
       "[5, 6, 7, 5, 8, 9, 6, 10, 6]"
      ]
     },
     "execution_count": 107,
     "metadata": {},
     "output_type": "execute_result"
    }
   ],
   "source": [
    "l1"
   ]
  },
  {
   "cell_type": "code",
   "execution_count": 109,
   "id": "d6ac5992-05a8-48c8-90af-88b73610e204",
   "metadata": {},
   "outputs": [
    {
     "ename": "ValueError",
     "evalue": "6 is not in list",
     "output_type": "error",
     "traceback": [
      "\u001b[1;31m---------------------------------------------------------------------------\u001b[0m",
      "\u001b[1;31mValueError\u001b[0m                                Traceback (most recent call last)",
      "Cell \u001b[1;32mIn[109], line 1\u001b[0m\n\u001b[1;32m----> 1\u001b[0m l1\u001b[38;5;241m.\u001b[39mindex(\u001b[38;5;241m6\u001b[39m,\u001b[38;5;241m2\u001b[39m,\u001b[38;5;241m5\u001b[39m)\n",
      "\u001b[1;31mValueError\u001b[0m: 6 is not in list"
     ]
    }
   ],
   "source": [
    "l1.index(6,2,5)"
   ]
  },
  {
   "cell_type": "code",
   "execution_count": 111,
   "id": "b94005d9-eac3-4e93-9412-09642b28872a",
   "metadata": {},
   "outputs": [
    {
     "data": {
      "text/plain": [
       "3"
      ]
     },
     "execution_count": 111,
     "metadata": {},
     "output_type": "execute_result"
    }
   ],
   "source": [
    "l1.count(6)"
   ]
  },
  {
   "cell_type": "code",
   "execution_count": 113,
   "id": "f92159aa-a0bb-4aaa-aa4f-8098dd6ca4bc",
   "metadata": {},
   "outputs": [],
   "source": [
    "l1.reverse()  #modify the original -> mutable "
   ]
  },
  {
   "cell_type": "code",
   "execution_count": 115,
   "id": "cda4f8d4-46a1-40b3-9093-caa4fedf70ea",
   "metadata": {},
   "outputs": [
    {
     "data": {
      "text/plain": [
       "[6, 10, 6, 9, 8, 5, 7, 6, 5]"
      ]
     },
     "execution_count": 115,
     "metadata": {},
     "output_type": "execute_result"
    }
   ],
   "source": [
    "l1"
   ]
  },
  {
   "cell_type": "code",
   "execution_count": 117,
   "id": "e2ab2886-6c15-4dde-8381-781069478620",
   "metadata": {},
   "outputs": [],
   "source": [
    "l1.sort() #modify the original list -> mutable"
   ]
  },
  {
   "cell_type": "code",
   "execution_count": 119,
   "id": "7612fbae-a683-4504-b14a-5315f63b6934",
   "metadata": {},
   "outputs": [
    {
     "data": {
      "text/plain": [
       "[5, 5, 6, 6, 6, 7, 8, 9, 10]"
      ]
     },
     "execution_count": 119,
     "metadata": {},
     "output_type": "execute_result"
    }
   ],
   "source": [
    "l1"
   ]
  },
  {
   "cell_type": "code",
   "execution_count": 121,
   "id": "8165084a-0bd6-4ac6-b4b9-c6854327de60",
   "metadata": {},
   "outputs": [],
   "source": [
    "l1.sort(reverse=True)"
   ]
  },
  {
   "cell_type": "code",
   "execution_count": 123,
   "id": "399dd21e-b64a-4bff-8ac1-5324e30397e5",
   "metadata": {},
   "outputs": [
    {
     "data": {
      "text/plain": [
       "[10, 9, 8, 7, 6, 6, 6, 5, 5]"
      ]
     },
     "execution_count": 123,
     "metadata": {},
     "output_type": "execute_result"
    }
   ],
   "source": [
    "l1"
   ]
  },
  {
   "cell_type": "code",
   "execution_count": 125,
   "id": "a4e33b30-ea52-4ebb-9f55-4268b2f41687",
   "metadata": {},
   "outputs": [
    {
     "data": {
      "text/plain": [
       "[5, 5, 6, 6, 6, 7, 8, 9, 10]"
      ]
     },
     "execution_count": 125,
     "metadata": {},
     "output_type": "execute_result"
    }
   ],
   "source": [
    "sorted(l1) #global function"
   ]
  },
  {
   "cell_type": "code",
   "execution_count": 127,
   "id": "8c710743-2218-4048-abf3-80452e89e24f",
   "metadata": {},
   "outputs": [
    {
     "data": {
      "text/plain": [
       "[10, 9, 8, 7, 6, 6, 6, 5, 5]"
      ]
     },
     "execution_count": 127,
     "metadata": {},
     "output_type": "execute_result"
    }
   ],
   "source": [
    "l1 "
   ]
  },
  {
   "cell_type": "code",
   "execution_count": 129,
   "id": "860de00a-4365-413c-8a9b-3a21fcf02934",
   "metadata": {},
   "outputs": [],
   "source": [
    "#Sort() modifies the original list but sorted() does not."
   ]
  },
  {
   "cell_type": "code",
   "execution_count": null,
   "id": "97489c5c-2381-4e02-acf7-3cef033bfca1",
   "metadata": {},
   "outputs": [],
   "source": []
  }
 ],
 "metadata": {
  "kernelspec": {
   "display_name": "Python 3 (ipykernel)",
   "language": "python",
   "name": "python3"
  },
  "language_info": {
   "codemirror_mode": {
    "name": "ipython",
    "version": 3
   },
   "file_extension": ".py",
   "mimetype": "text/x-python",
   "name": "python",
   "nbconvert_exporter": "python",
   "pygments_lexer": "ipython3",
   "version": "3.12.7"
  }
 },
 "nbformat": 4,
 "nbformat_minor": 5
}
