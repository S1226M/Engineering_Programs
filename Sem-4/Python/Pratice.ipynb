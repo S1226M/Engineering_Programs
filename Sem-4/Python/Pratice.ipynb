{
 "cells": [
  {
   "cell_type": "markdown",
   "id": "1ba6f179-9dce-4f24-b965-e27ef0e445cc",
   "metadata": {},
   "source": [
    "<h1>Write a Python program to check whether the given number is positive or negative.</h1>"
   ]
  },
  {
   "cell_type": "code",
   "execution_count": 13,
   "id": "1f362349-002e-4ee9-81d6-97742946891e",
   "metadata": {},
   "outputs": [
    {
     "name": "stdin",
     "output_type": "stream",
     "text": [
      "Enter the number :  0\n"
     ]
    },
    {
     "name": "stdout",
     "output_type": "stream",
     "text": [
      "Given number is positive\n"
     ]
    }
   ],
   "source": [
    "a = int(input(\"Enter the number : \"))\n",
    "if a <= -1:\n",
    "\tprint(\"Given number is not positive\")\n",
    "else:\n",
    "\tprint(\"Given number is positive\")"
   ]
  },
  {
   "cell_type": "markdown",
   "id": "00f4786e-854d-4d4c-9d2e-1b8ab700ccf1",
   "metadata": {},
   "source": [
    "<h1>Write a Python program to calculate the simple interest given principal, rate, and time.</h1>"
   ]
  },
  {
   "cell_type": "code",
   "execution_count": 18,
   "id": "e26ea84a-cb25-4ab5-a559-3989f9fe7484",
   "metadata": {},
   "outputs": [
    {
     "name": "stdin",
     "output_type": "stream",
     "text": [
      "Enter principal :  10.2\n",
      "Enter the rate :  10\n",
      "Enter the time :  100\n"
     ]
    },
    {
     "name": "stdout",
     "output_type": "stream",
     "text": [
      "The simple interest is = 102.0\n"
     ]
    }
   ],
   "source": [
    "p = float(input(\"Enter principal : \"))\n",
    "r = float(input(\"Enter the rate : \"))\n",
    "t = float(input(\"Enter the time : \"))\n",
    "print(f\"The simple interest is = {(p*r*t)/100}\")"
   ]
  },
  {
   "cell_type": "markdown",
   "id": "43c5734f-7a67-4831-9488-029f285ef128",
   "metadata": {},
   "source": [
    "<h1>Write a Python function to check whether a given string is a palindrome or not.</h1>"
   ]
  },
  {
   "cell_type": "code",
   "execution_count": 24,
   "id": "3a665ee8-e1b1-461c-8c44-5e0375f94575",
   "metadata": {},
   "outputs": [
    {
     "name": "stdin",
     "output_type": "stream",
     "text": [
      "Enter the palindrome string :  saas\n"
     ]
    },
    {
     "name": "stdout",
     "output_type": "stream",
     "text": [
      "Given string is palindrome\n"
     ]
    }
   ],
   "source": [
    "a = input(\"Enter the palindrome string : \")\n",
    "b = a[::-1]\n",
    "if a == b:\n",
    "\tprint(\"Given string is palindrome\")\n",
    "else:\n",
    "\tprint(\"Given string is not palindrome\")"
   ]
  },
  {
   "cell_type": "markdown",
   "id": "233d4a35-3c92-4558-bd5d-b9ca4da7dca5",
   "metadata": {},
   "source": [
    "<h1>Write a Python program to compute the GCD (Greatest Common Divisor) of two numbers.</h1>"
   ]
  },
  {
   "cell_type": "code",
   "execution_count": 32,
   "id": "8a883933-14bb-46d9-a0af-88cdb62190d1",
   "metadata": {},
   "outputs": [
    {
     "name": "stdin",
     "output_type": "stream",
     "text": [
      "Enter the number 1 : 60\n",
      "Enter the number 2 : 36\n"
     ]
    },
    {
     "name": "stdout",
     "output_type": "stream",
     "text": [
      "Gcd of the given two number is :  12\n"
     ]
    }
   ],
   "source": [
    "a = int(input(\"Enter the number 1 :\")) \n",
    "b = int(input(\"Enter the number 2 :\"))\n",
    "gcd = 1\n",
    "for i in range(1,min(a,b)+1):\n",
    "\tif a%i==0 and b%i==0:\n",
    "\t\tgcd = i\n",
    "print(\"Gcd of the given two number is : \",gcd)"
   ]
  },
  {
   "cell_type": "markdown",
   "id": "4b60ea4a-3c34-4e08-8f25-6645ee36be8c",
   "metadata": {},
   "source": [
    "<h1>Write a Python program to implement a simple calculator that performs addition, subtraction, multiplication, and division based on user inpu</h1>"
   ]
  },
  {
   "cell_type": "code",
   "execution_count": 43,
   "id": "5ac258dc-c976-4e0d-995e-08f95dfb5360",
   "metadata": {},
   "outputs": [
    {
     "name": "stdin",
     "output_type": "stream",
     "text": [
      "Enter the number 1 :  10\n",
      "Enter the operation you would like to perform (+, -, *, /) :  /\n",
      "Enter the number 2 :  20\n"
     ]
    },
    {
     "name": "stdout",
     "output_type": "stream",
     "text": [
      "Result: 0.5\n"
     ]
    }
   ],
   "source": [
    "a = int(input(\"Enter the number 1 : \"))\n",
    "operator = input(\"Enter the operation you would like to perform (+, -, *, /) : \")\n",
    "b = int(input(\"Enter the number 2 : \"))\n",
    "\n",
    "match operator:\n",
    "    case '/':\n",
    "        print(\"Result:\", a / b if b != 0 else \"Cannot divide by zero\")  # Handling division by zero\n",
    "    case '*':\n",
    "        print(\"Result:\", a * b)\n",
    "    case '+':\n",
    "        print(\"Result:\", a + b)\n",
    "    case '-':\n",
    "        print(\"Result:\", a - b)\n",
    "    case _:\n",
    "        print(\"Invalid Opetare\")\n"
   ]
  },
  {
   "cell_type": "markdown",
   "id": "d1628bd8-24ed-4aff-8dd4-6e7676e59320",
   "metadata": {},
   "source": [
    "<h1>Write a Python function to count the number of vowels in a given string.</h1>"
   ]
  },
  {
   "cell_type": "code",
   "execution_count": 48,
   "id": "e98b8eb1-0671-440a-b8ff-af8bea8d37f3",
   "metadata": {},
   "outputs": [
    {
     "name": "stdin",
     "output_type": "stream",
     "text": [
      "Enter the string :  QWERTYUIOPASDFHJKLZXCVBNMqwertyuiopasdfghklzxcvbnm\n"
     ]
    },
    {
     "name": "stdout",
     "output_type": "stream",
     "text": [
      "10\n"
     ]
    }
   ],
   "source": [
    "a = input(\"Enter the string : \")\n",
    "b = ['a','e','i','o','u','A','E','I','O','U']\n",
    "count = 0\n",
    "for i in a:\n",
    "    if i in b:\n",
    "        count += 1\n",
    "print(count)"
   ]
  },
  {
   "cell_type": "code",
   "execution_count": null,
   "id": "8ca0ec20-e80f-4a58-9c04-d56781abf6d8",
   "metadata": {},
   "outputs": [],
   "source": []
  }
 ],
 "metadata": {
  "kernelspec": {
   "display_name": "Python 3 (ipykernel)",
   "language": "python",
   "name": "python3"
  },
  "language_info": {
   "codemirror_mode": {
    "name": "ipython",
    "version": 3
   },
   "file_extension": ".py",
   "mimetype": "text/x-python",
   "name": "python",
   "nbconvert_exporter": "python",
   "pygments_lexer": "ipython3",
   "version": "3.12.7"
  }
 },
 "nbformat": 4,
 "nbformat_minor": 5
}
