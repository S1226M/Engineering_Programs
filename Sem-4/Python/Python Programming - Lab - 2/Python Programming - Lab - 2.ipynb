{
 "cells": [
  {
   "cell_type": "markdown",
   "metadata": {},
   "source": [
    "\n",
    "<a href='https://www.darshan.ac.in/'> <img src='https://www.darshan.ac.in/Content/media/DU_Logo.svg' width=\"250\" height=\"300\"/></a>\n",
    "<pre>\n",
    "<center><b><h1>Python Programming - 2301CS404</b></center>\n",
    "<center><b><h1>Lab - 2</b></center>    \n",
    "<center><b><h1>23010101161 - Smit Maru - 260</b></center>    \n",
    "<pre>"
   ]
  },
  {
   "cell_type": "markdown",
   "metadata": {},
   "source": [
    "# if..else.."
   ]
  },
  {
   "cell_type": "markdown",
   "metadata": {},
   "source": [
    "### 01) WAP to check whether the given number is positive or negative."
   ]
  },
  {
   "cell_type": "code",
   "execution_count": 5,
   "metadata": {},
   "outputs": [
    {
     "name": "stdin",
     "output_type": "stream",
     "text": [
      "Enter the number 10\n"
     ]
    },
    {
     "name": "stdout",
     "output_type": "stream",
     "text": [
      "possitive\n"
     ]
    }
   ],
   "source": [
    "a = int(input(\"Enter the number\"))\n",
    "print(\"possitive\") if a > 0 else ( print(\"Negative\") if a < 0 else print(\"Number is 0 not possitive or nagative\"))"
   ]
  },
  {
   "cell_type": "markdown",
   "metadata": {},
   "source": [
    "### 02) WAP to check whether the given number is odd or even."
   ]
  },
  {
   "cell_type": "code",
   "execution_count": 6,
   "metadata": {},
   "outputs": [
    {
     "name": "stdin",
     "output_type": "stream",
     "text": [
      "Enter the number 2\n"
     ]
    },
    {
     "name": "stdout",
     "output_type": "stream",
     "text": [
      "Even\n"
     ]
    }
   ],
   "source": [
    "a = int(input(\"Enter the number\"))\n",
    "print(\"Odd\") if (a%2 != 0) else print(\"Even\")"
   ]
  },
  {
   "cell_type": "markdown",
   "metadata": {},
   "source": [
    "### 03) WAP to find out largest number from given two numbers using simple if and ternary operator."
   ]
  },
  {
   "cell_type": "code",
   "execution_count": 8,
   "metadata": {},
   "outputs": [
    {
     "name": "stdin",
     "output_type": "stream",
     "text": [
      "Enter the number 1 12\n",
      "Enter the number 2 12\n"
     ]
    },
    {
     "name": "stdout",
     "output_type": "stream",
     "text": [
      "both are same\n"
     ]
    }
   ],
   "source": [
    "a = int(input(\"Enter the number 1\"))\n",
    "b = int(input(\"Enter the number 2\"))\n",
    "print(f\"{a} is large\") if a > b else (print(f\"{b} is large\") if b > a else print(\"both are same\"))"
   ]
  },
  {
   "cell_type": "markdown",
   "metadata": {},
   "source": [
    "### 04) WAP to find out largest number from given three numbers."
   ]
  },
  {
   "cell_type": "code",
   "execution_count": 12,
   "metadata": {},
   "outputs": [
    {
     "name": "stdin",
     "output_type": "stream",
     "text": [
      "Enter the number 1 10\n",
      "Enter the number 2 12\n",
      "Enter the number 2 14\n"
     ]
    },
    {
     "name": "stdout",
     "output_type": "stream",
     "text": [
      "14 is large\n"
     ]
    }
   ],
   "source": [
    "a = int(input(\"Enter the number 1\"))\n",
    "b = int(input(\"Enter the number 2\"))\n",
    "c = int(input(\"Enter the number 3\"))\n",
    "if (a > b):\n",
    "    if (a > c) :\n",
    "        print(f\"{a} is large\")\n",
    "    else:\n",
    "        print(f\"{c} is large\")\n",
    "else:\n",
    "    if (b > c) :\n",
    "        print(f\"{b} is large\")\n",
    "    else:\n",
    "        print(f\"{c} is large\")\n",
    "    "
   ]
  },
  {
   "cell_type": "markdown",
   "metadata": {},
   "source": [
    "### 05) WAP to check whether the given year is leap year or not.\n",
    "[If a year can be divisible by 4 but not divisible by 100 then it is leap year but if it is divisible by 400 then it is leap year]"
   ]
  },
  {
   "cell_type": "code",
   "execution_count": 15,
   "metadata": {},
   "outputs": [
    {
     "name": "stdin",
     "output_type": "stream",
     "text": [
      "Enter the year 2020\n"
     ]
    },
    {
     "name": "stdout",
     "output_type": "stream",
     "text": [
      "given year is leep year\n"
     ]
    }
   ],
   "source": [
    "a = int(input(\"Enter the year\"))\n",
    "print(\"given year is leep year\") if (a%4==0 or a%100==0 and a%400 != 0) else print(\"Given year is not leep year\")"
   ]
  },
  {
   "cell_type": "markdown",
   "metadata": {},
   "source": [
    "### 06) WAP in python to display the name of the day according to the number given by the user."
   ]
  },
  {
   "cell_type": "code",
   "execution_count": 27,
   "metadata": {},
   "outputs": [
    {
     "name": "stdout",
     "output_type": "stream",
     "text": [
      "Consider Sunday is 1\n"
     ]
    },
    {
     "name": "stdin",
     "output_type": "stream",
     "text": [
      "Enter the number and get the name of the day 0\n"
     ]
    },
    {
     "name": "stdout",
     "output_type": "stream",
     "text": [
      "Ivalid number\n"
     ]
    }
   ],
   "source": [
    "arr = [\"S\",\"M\",\"T\",\"W\",\"Th\",\"F\",\"Sa\"]\n",
    "print(\"Consider Sunday is 1\")\n",
    "a = int(input(\"Enter the number and get the name of the day\"))\n",
    "print(\"Ivalid number\") if (a>7 or a<=0) else print(arr[a-1])\n",
    "\n",
    "\n",
    "# match :\n",
    "#     case :\n",
    "#     case :\n",
    "#     .\n",
    "#     .\n",
    "#     .\n",
    "#     case_:\n",
    "#         contant"
   ]
  },
  {
   "cell_type": "markdown",
   "metadata": {},
   "source": [
    "### 07) WAP to implement simple calculator which performs (add,sub,mul,div) of two no. based on user input."
   ]
  },
  {
   "cell_type": "code",
   "execution_count": 28,
   "metadata": {},
   "outputs": [
    {
     "name": "stdin",
     "output_type": "stream",
     "text": [
      "Enter the number 1 12\n",
      "Enter the number 2 12\n"
     ]
    },
    {
     "name": "stdout",
     "output_type": "stream",
     "text": [
      "if you went to add so click 1\n",
      "if you went to sub so click 2\n",
      "if you went to mul so click 3\n",
      "if you went to div so click 4\n"
     ]
    },
    {
     "name": "stdin",
     "output_type": "stream",
     "text": [
      "Enter the number 3\n"
     ]
    },
    {
     "name": "stdout",
     "output_type": "stream",
     "text": [
      "144\n"
     ]
    }
   ],
   "source": [
    "a = int(input(\"Enter the number 1\"))\n",
    "b = int(input(\"Enter the number 2\"))\n",
    "\n",
    "print(\"if you went to add so click 1\")\n",
    "print(\"if you went to sub so click 2\")\n",
    "print(\"if you went to mul so click 3\")\n",
    "print(\"if you went to div so click 4\")\n",
    "c = int(input(\"Enter the number\"))\n",
    "if c == 1 :\n",
    "    print(a+b)\n",
    "elif c == 2:\n",
    "    print(a-b)\n",
    "elif c == 3:\n",
    "    print(a*b)\n",
    "elif c==4:\n",
    "    print(a/b)\n",
    "else:\n",
    "    print(\"Invalid\")"
   ]
  },
  {
   "cell_type": "markdown",
   "metadata": {},
   "source": [
    "### 08) WAP to read marks of five subjects. Calculate percentage and print class accordingly. \n",
    "Fail below 35 </br>\n",
    "Pass Class between 35 to 45 </br>\n",
    "Second Class</br>\n",
    "between 45 to 60</br>\n",
    "First Class between 60 to 70</br> \n",
    "Distinction if more than 70"
   ]
  },
  {
   "cell_type": "code",
   "execution_count": 29,
   "metadata": {},
   "outputs": [
    {
     "name": "stdin",
     "output_type": "stream",
     "text": [
      "Enter the number 1 80\n",
      "Enter the number 2 80\n",
      "Enter the number 3 00\n",
      "Enter the number 4 00\n",
      "Enter the number 5 00\n"
     ]
    },
    {
     "name": "stdout",
     "output_type": "stream",
     "text": [
      "percentage is : 32.0\n",
      "Fail\n"
     ]
    }
   ],
   "source": [
    "a = int(input(\"Enter the number 1\"))\n",
    "b = int(input(\"Enter the number 2\"))\n",
    "c = int(input(\"Enter the number 3\"))\n",
    "d = int(input(\"Enter the number 4\"))\n",
    "e = int(input(\"Enter the number 5\"))\n",
    "p = ((a+b+c+d+e)*100)/500\n",
    "print(f\"percentage is : {p}\")\n",
    "if p < 35:\n",
    "    print(\"Fail\")\n",
    "elif a >= 35 and a < 45:\n",
    "    print(\"Pass Class between\")\n",
    "elif a >= 45 and a<60 :\n",
    "    print(\"Second Class\")\n",
    "elif a>=60 and a<70 :\n",
    "    print(\"First Class\")\n",
    "else:\n",
    "    print(\"Distinction\")"
   ]
  },
  {
   "cell_type": "markdown",
   "metadata": {},
   "source": [
    "### 09) Three sides of a triangle are entered through the keyboard, WAP to check whether the triangle is isosceles, equilateral, scalene or right-angled triangle."
   ]
  },
  {
   "cell_type": "code",
   "execution_count": 35,
   "metadata": {},
   "outputs": [
    {
     "name": "stdin",
     "output_type": "stream",
     "text": [
      "Enter the side 1 3\n",
      "Enter the side 2 4\n",
      "Enter the side 3 5\n"
     ]
    },
    {
     "name": "stdout",
     "output_type": "stream",
     "text": [
      "Scalene\n"
     ]
    }
   ],
   "source": [
    "a = int(input(\"Enter the side 1\"))\n",
    "b = int(input(\"Enter the side 2\"))\n",
    "b = int(input(\"Enter the side 3\"))\n",
    "if a == b == c :\n",
    "    print(\"equilateral\")\n",
    "elif ((a*a) + (b*b) == (c*c)) or ((b*b) + (c*c))==(a*a) or ((a*a) + (c*c) == (b*b)):\n",
    "    print(\"right-angled triangle\")\n",
    "elif a != b != c:\n",
    "    print(\"Scalene\")\n",
    "else:\n",
    "    print(\"isosceles\")"
   ]
  },
  {
   "cell_type": "markdown",
   "metadata": {},
   "source": [
    "### 10) WAP to find the second largest number among three user input numbers."
   ]
  },
  {
   "cell_type": "code",
   "execution_count": null,
   "metadata": {},
   "outputs": [],
   "source": []
  },
  {
   "cell_type": "markdown",
   "metadata": {},
   "source": [
    "### 11) WAP to calculate electricity bill based on following criteria. Which takes the unit from the user.\n",
    "a. First 1 to 50 units – Rs. 2.60/unit</br>\n",
    "b. Next 50 to 100 units – Rs. 3.25/unit</br>\n",
    "c. Next 100 to 200 units – Rs. 5.26/unit</br>\n",
    "d. above 200 units – Rs. 8.45/unit"
   ]
  },
  {
   "cell_type": "code",
   "execution_count": null,
   "metadata": {},
   "outputs": [],
   "source": []
  }
 ],
 "metadata": {
  "kernelspec": {
   "display_name": "Python 3 (ipykernel)",
   "language": "python",
   "name": "python3"
  },
  "language_info": {
   "codemirror_mode": {
    "name": "ipython",
    "version": 3
   },
   "file_extension": ".py",
   "mimetype": "text/x-python",
   "name": "python",
   "nbconvert_exporter": "python",
   "pygments_lexer": "ipython3",
   "version": "3.12.7"
  }
 },
 "nbformat": 4,
 "nbformat_minor": 4
}
