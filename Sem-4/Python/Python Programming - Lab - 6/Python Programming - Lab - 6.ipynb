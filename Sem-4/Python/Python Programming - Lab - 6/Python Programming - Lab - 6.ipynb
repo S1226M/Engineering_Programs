{
 "cells": [
  {
   "attachments": {},
   "cell_type": "markdown",
   "metadata": {},
   "source": [
    "<a href='https://www.darshan.ac.in/'> <img src='https://www.darshan.ac.in/Content/media/DU_Logo.svg' width=\"250\" height=\"300\"/></a>\n",
    "<pre>\n",
    "<center><b><h1>Python Programming - 2301CS404</b></center>\n",
    "<center><b><h1>Lab - 6</b></center>\n",
    "<center><b><h1>23010101161 - Smit Maru - 260</b></center>\n",
    "<pre>"
   ]
  },
  {
   "cell_type": "markdown",
   "metadata": {},
   "source": [
    "# Tuple"
   ]
  },
  {
   "cell_type": "markdown",
   "metadata": {},
   "source": [
    "### 01) WAP to find sum of tuple elements."
   ]
  },
  {
   "cell_type": "code",
   "execution_count": 17,
   "metadata": {},
   "outputs": [
    {
     "name": "stdin",
     "output_type": "stream",
     "text": [
      "Enter trhe size of tuple 4\n",
      "Enter the element 1\n",
      "Enter the element 2\n",
      "Enter the element 3\n",
      "Enter the element 4\n"
     ]
    },
    {
     "name": "stdout",
     "output_type": "stream",
     "text": [
      "10\n"
     ]
    }
   ],
   "source": [
    "t1 = []\n",
    "n = int(input(\"Enter trhe size of tuple\"))\n",
    "for i in range(n):\n",
    "    t1.append(int(input(\"Enter the element\")))\n",
    "t1 = tuple(t1)\n",
    "print(sum((t1)))"
   ]
  },
  {
   "cell_type": "markdown",
   "metadata": {},
   "source": [
    "### 02) WAP to find Maximum and Minimum K elements in a given tuple."
   ]
  },
  {
   "cell_type": "code",
   "execution_count": 19,
   "metadata": {},
   "outputs": [
    {
     "name": "stdin",
     "output_type": "stream",
     "text": [
      "Enter trhe size of tuple 5\n",
      "Enter the element 1\n",
      "Enter the element 2\n",
      "Enter the element 3\n",
      "Enter the element 4\n",
      "Enter the element 5\n",
      "Enter k 2\n"
     ]
    },
    {
     "name": "stdout",
     "output_type": "stream",
     "text": [
      "(1, 2)\n",
      "(5, 4)\n"
     ]
    }
   ],
   "source": [
    "t1 = []\n",
    "n = int(input(\"Enter trhe size of tuple\"))\n",
    "for i in range(n):\n",
    "    t1.append(int(input(\"Enter the element\")))\n",
    "t1 = tuple(t1)\n",
    "t1 = sorted(t1)\n",
    "k = int(input(\"Enter k\"))\n",
    "print(tuple(t1[:k:1]))\n",
    "print(tuple(t1[:k:-1]))"
   ]
  },
  {
   "cell_type": "markdown",
   "metadata": {},
   "source": [
    "### 03) WAP to find tuples which have all elements divisible by K from a list of tuples."
   ]
  },
  {
   "cell_type": "code",
   "execution_count": 22,
   "metadata": {},
   "outputs": [
    {
     "name": "stdin",
     "output_type": "stream",
     "text": [
      "Enter trhe size of tuple 5\n",
      "Enter the element 1\n",
      "Enter the element 2\n",
      "Enter the element 3\n",
      "Enter the element 4\n",
      "Enter the element 5\n",
      "Enter k 6\n"
     ]
    },
    {
     "name": "stdout",
     "output_type": "stream",
     "text": [
      "No element is devisable by 6\n"
     ]
    }
   ],
   "source": [
    "t1 = []\n",
    "n = int(input(\"Enter trhe size of tuple\"))\n",
    "for i in range(n):\n",
    "    t1.append(int(input(\"Enter the element\")))\n",
    "t1 = tuple(t1)\n",
    "count = 0\n",
    "k = int(input(\"Enter k\"))\n",
    "for i in t1:\n",
    "    if i%k == 0:\n",
    "        print(i)\n",
    "        count += 1\n",
    "if count == 0:\n",
    "    print(f\"No element is devisable by {k}\")"
   ]
  },
  {
   "cell_type": "markdown",
   "metadata": {},
   "source": [
    "### 04) WAP to create a list of tuples from given list having number and its cube in each tuple."
   ]
  },
  {
   "cell_type": "code",
   "execution_count": 42,
   "metadata": {},
   "outputs": [
    {
     "name": "stdin",
     "output_type": "stream",
     "text": [
      "Enter trhe size of tuple 2\n",
      "Enter the element 2\n",
      "Enter the element 3\n"
     ]
    },
    {
     "data": {
      "text/plain": [
       "[(2, 8), (3, 27)]"
      ]
     },
     "execution_count": 42,
     "metadata": {},
     "output_type": "execute_result"
    }
   ],
   "source": [
    "t1 = []\n",
    "n = int(input(\"Enter trhe size of tuple\"))\n",
    "for i in range(n):\n",
    "    t1.append(int(input(\"Enter the element\")))\n",
    "t1 = tuple(t1)\n",
    "ans = [(t1[i],t1[i]**3) for i in range(len(t1))]\n",
    "ans\n",
    "################################################################# OR ###########################################################################\n",
    "# ans = []\n",
    "# for i in range(0,len(t1)):\n",
    "#     temp = (t1[i],t1[i]**3)\n",
    "#     ans.append(temp)\n",
    "# ans"
   ]
  },
  {
   "cell_type": "markdown",
   "metadata": {},
   "source": [
    "### 05) WAP to find tuples with all positive elements from the given list of tuples."
   ]
  },
  {
   "cell_type": "code",
   "execution_count": 47,
   "metadata": {},
   "outputs": [
    {
     "name": "stdout",
     "output_type": "stream",
     "text": [
      "(1, 2, 3, 5, 6, 18, 45, 93)\n"
     ]
    }
   ],
   "source": [
    "t1 = [(1, 2, 3), (5, 6, -7), (18, 45, 93)]\n",
    "ans = []\n",
    "for i in range(len(t1)):\n",
    "    for j in range(len(t1[i])):\n",
    "        if t1[i][j] >= 0:\n",
    "            ans.append(t1[i][j])\n",
    "print(tuple(ans))"
   ]
  },
  {
   "cell_type": "markdown",
   "metadata": {},
   "source": [
    "### 06) WAP to add tuple to list and vice – versa."
   ]
  },
  {
   "cell_type": "code",
   "execution_count": 53,
   "metadata": {},
   "outputs": [
    {
     "name": "stdout",
     "output_type": "stream",
     "text": [
      "([1, 2, 3], [1, 2, 3], [1, 2, 3])\n",
      "[(1, 2, 3), (1, 2, 3), (1, 2, 3)]\n"
     ]
    }
   ],
   "source": [
    "t1 = []\n",
    "a = [1,2,3]\n",
    "b = [1,2,3]\n",
    "c = [1,2,3]\n",
    "t1.append(a)\n",
    "t1.append(b)\n",
    "t1.append(c)\n",
    "print(tuple(t1))\n",
    "####################################################### vice – versa #######################################################\n",
    "t2 = []\n",
    "a = [1,2,3]\n",
    "b = [1,2,3]\n",
    "c = [1,2,3]\n",
    "t2.append(tuple(a))\n",
    "t2.append(tuple(b))\n",
    "t2.append(tuple(c))\n",
    "print(t2)"
   ]
  },
  {
   "cell_type": "markdown",
   "metadata": {},
   "source": [
    "### 07) WAP to remove tuples of length K."
   ]
  },
  {
   "cell_type": "code",
   "execution_count": 1,
   "metadata": {},
   "outputs": [
    {
     "name": "stdin",
     "output_type": "stream",
     "text": [
      "Enter the length 2\n"
     ]
    },
    {
     "name": "stdout",
     "output_type": "stream",
     "text": [
      "[(1, 2, 3), (1, 2, 3, 4), (1, 2, 3, 4, 5)]\n"
     ]
    }
   ],
   "source": [
    "l1 = [(1, 2), (1, 2, 3), (1, 2, 3, 4), (1, 2, 3, 4, 5)]\n",
    "k = int(input(\"Enter the length\"))\n",
    "l = [i for i in l1 if len(i) != k]\n",
    "print(l)"
   ]
  },
  {
   "cell_type": "markdown",
   "metadata": {},
   "source": [
    "### 08) WAP to remove duplicates from tuple."
   ]
  },
  {
   "cell_type": "code",
   "execution_count": 3,
   "metadata": {},
   "outputs": [
    {
     "data": {
      "text/plain": [
       "(1, 2, 3)"
      ]
     },
     "execution_count": 3,
     "metadata": {},
     "output_type": "execute_result"
    }
   ],
   "source": [
    "t1 = (1,2,2,3)\n",
    "t1 = set(t1)\n",
    "t1 = tuple(t1)\n",
    "t1"
   ]
  },
  {
   "cell_type": "markdown",
   "metadata": {},
   "source": [
    "### 09) WAP to multiply adjacent elements of a tuple and print that resultant tuple."
   ]
  },
  {
   "cell_type": "code",
   "execution_count": 4,
   "metadata": {},
   "outputs": [
    {
     "data": {
      "text/plain": [
       "(2, 6, 12, 4)"
      ]
     },
     "execution_count": 4,
     "metadata": {},
     "output_type": "execute_result"
    }
   ],
   "source": [
    "t1 = (1,2,3,4)\n",
    "t1 = list(t1)\n",
    "for i in range(len(t1)-1):\n",
    "    t1[i] = t1[i] * t1[i+1]\n",
    "t1 = tuple(t1)\n",
    "t1"
   ]
  },
  {
   "cell_type": "markdown",
   "metadata": {},
   "source": [
    "### 10) WAP to test if the given tuple is distinct or not."
   ]
  },
  {
   "cell_type": "code",
   "execution_count": 6,
   "metadata": {},
   "outputs": [
    {
     "name": "stdout",
     "output_type": "stream",
     "text": [
      "distinct\n"
     ]
    }
   ],
   "source": [
    "t1 = (1,2,3,4,5)\n",
    "flag = True\n",
    "temp = t1[0]\n",
    "for i in range(i,len(t1)):\n",
    "    for j in range(i+1,len(t1)):\n",
    "        if t1[i] == t1[j]:\n",
    "            flag = False\n",
    "            break\n",
    "if flag:\n",
    "    print(\"distinct\")\n",
    "else:\n",
    "    print(\"not distinct\")"
   ]
  }
 ],
 "metadata": {
  "kernelspec": {
   "display_name": "Python 3 (ipykernel)",
   "language": "python",
   "name": "python3"
  },
  "language_info": {
   "codemirror_mode": {
    "name": "ipython",
    "version": 3
   },
   "file_extension": ".py",
   "mimetype": "text/x-python",
   "name": "python",
   "nbconvert_exporter": "python",
   "pygments_lexer": "ipython3",
   "version": "3.12.7"
  }
 },
 "nbformat": 4,
 "nbformat_minor": 4
}
