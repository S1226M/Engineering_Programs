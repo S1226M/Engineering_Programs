{
 "cells": [
  {
   "attachments": {},
   "cell_type": "markdown",
   "metadata": {},
   "source": [
    "<a href='https://www.darshan.ac.in/'> <img src='https://www.darshan.ac.in/Content/media/DU_Logo.svg' width=\"250\" height=\"300\"/></a>\n",
    "<pre>\n",
    "<center><b><h1>Python Programming - 2301CS404</b></center>\n",
    "<center><b><h1>Lab - 11</b></center>    \n",
    "<pre>"
   ]
  },
  {
   "cell_type": "markdown",
   "metadata": {},
   "source": [
    "# Modules"
   ]
  },
  {
   "cell_type": "markdown",
   "metadata": {},
   "source": [
    "### 01) WAP to create Calculator module which defines functions like add, sub,mul and div. \n",
    "### Create another .py file that uses the functions available in Calculator module."
   ]
  },
  {
   "cell_type": "code",
   "execution_count": 6,
   "metadata": {},
   "outputs": [
    {
     "name": "stdout",
     "output_type": "stream",
     "text": [
      "30\n",
      "-10\n",
      "200\n",
      "Error: Division by zero is not allowed\n",
      "12.0\n"
     ]
    }
   ],
   "source": [
    "import Cal\n",
    "print(Cal.Add(10,20))\n",
    "print(Cal.Sub(10,20))\n",
    "print(Cal.Mul(10,20))\n",
    "print(Cal.Div(12,0))\n",
    "print(Cal.Div(12,1))"
   ]
  },
  {
   "cell_type": "markdown",
   "metadata": {},
   "source": [
    "### 02) WAP to pick a random character from a given String."
   ]
  },
  {
   "cell_type": "code",
   "execution_count": 8,
   "metadata": {},
   "outputs": [
    {
     "name": "stdin",
     "output_type": "stream",
     "text": [
      "Enter String dfghj\n"
     ]
    },
    {
     "name": "stdout",
     "output_type": "stream",
     "text": [
      "d\n"
     ]
    }
   ],
   "source": [
    "import random\n",
    "s1 = input(\"Enter String\")\n",
    "print(s1[random.randint(0,len(s1)-1)])"
   ]
  },
  {
   "cell_type": "markdown",
   "metadata": {},
   "source": [
    "### 03) WAP to pick a random element from a given list."
   ]
  },
  {
   "cell_type": "code",
   "execution_count": 9,
   "metadata": {},
   "outputs": [
    {
     "name": "stdout",
     "output_type": "stream",
     "text": [
      "60\n"
     ]
    }
   ],
   "source": [
    "import random\n",
    "s1 = [10,20,3.0,40,50,60,70,80,980]\n",
    "print(s1[random.randint(0,len(s1)-1)])"
   ]
  },
  {
   "cell_type": "markdown",
   "metadata": {},
   "source": [
    "### 04) WAP to roll a dice in such a way that every time you get the same number."
   ]
  },
  {
   "cell_type": "code",
   "execution_count": 15,
   "metadata": {},
   "outputs": [
    {
     "name": "stdout",
     "output_type": "stream",
     "text": [
      "5\n"
     ]
    }
   ],
   "source": [
    "random.seed(10)\n",
    "print(random.randint(1,6))"
   ]
  },
  {
   "cell_type": "markdown",
   "metadata": {},
   "source": [
    "### 05) WAP to generate 3 random integers between 100 and 999 which is divisible by 5."
   ]
  },
  {
   "cell_type": "code",
   "execution_count": 16,
   "metadata": {},
   "outputs": [
    {
     "name": "stdout",
     "output_type": "stream",
     "text": [
      "140 645 715\n"
     ]
    }
   ],
   "source": [
    "a = random.randrange(100,999,5)\n",
    "b = random.randrange(100,999,5)\n",
    "c = random.randrange(100,999,5)\n",
    "print(a,b,c)"
   ]
  },
  {
   "cell_type": "markdown",
   "metadata": {},
   "source": [
    "### 06) WAP to generate 100 random lottery tickets and pick two lucky tickets from it and announce them as Winner and Runner up respectively."
   ]
  },
  {
   "cell_type": "code",
   "execution_count": 20,
   "metadata": {},
   "outputs": [
    {
     "name": "stdout",
     "output_type": "stream",
     "text": [
      "[444, 994, 425, 457, 252, 698, 282, 147, 633, 535, 183, 886, 123, 274, 467, 310, 169, 677, 665, 966, 841, 179, 797, 181, 492, 792, 356, 336, 446, 230, 6, 558, 730, 45, 340, 919, 328, 249, 82, 269, 459, 415, 597, 163, 400, 943, 891, 508, 690, 915, 248, 754, 538, 933, 279, 533, 495, 617, 512, 65, 171, 502, 691, 473, 920, 411, 140, 431, 555, 599, 358, 552, 398, 719, 170, 573, 452, 102, 992, 998, 426, 849, 37, 893, 3, 450, 549, 67, 52, 359, 95, 156, 112, 623, 465, 854, 819, 497, 143, 470]\n",
      "Winner :  533\n",
      "Runners up :  411\n"
     ]
    }
   ],
   "source": [
    "l1 = []\n",
    "while len(l1)!=100:\n",
    "    n = random.randint(1,1000)\n",
    "    if n not in l1:\n",
    "        l1.append(n)\n",
    "print(l1)\n",
    "\n",
    "winner = random.choice(l1)\n",
    "print('Winner : ',winner)\n",
    "l1.remove(winner)\n",
    "runnerup = random.choice(l1)\n",
    "print('Runners up : ',runnerup)"
   ]
  },
  {
   "cell_type": "markdown",
   "metadata": {},
   "source": [
    "### 07) WAP to print current date and time in Python."
   ]
  },
  {
   "cell_type": "code",
   "execution_count": 18,
   "metadata": {},
   "outputs": [
    {
     "name": "stdout",
     "output_type": "stream",
     "text": [
      "2025-02-10 13:14:26.431616\n"
     ]
    }
   ],
   "source": [
    "import datetime\n",
    "print(datetime.datetime.now())"
   ]
  },
  {
   "cell_type": "markdown",
   "metadata": {},
   "source": [
    "# 08) Subtract a week (7 days) from a given date in Python."
   ]
  },
  {
   "cell_type": "code",
   "execution_count": 27,
   "metadata": {},
   "outputs": [
    {
     "name": "stdout",
     "output_type": "stream",
     "text": [
      "2025-02-03 13:22:17.575423\n"
     ]
    }
   ],
   "source": [
    "a = datetime.datetime.now()\n",
    "b = datetime.timedelta(days = 7)\n",
    "print(a-b)"
   ]
  },
  {
   "cell_type": "markdown",
   "metadata": {},
   "source": [
    "### 09) WAP to Calculate number of days between two given dates."
   ]
  },
  {
   "cell_type": "code",
   "execution_count": 33,
   "metadata": {},
   "outputs": [
    {
     "name": "stdout",
     "output_type": "stream",
     "text": [
      "28\n"
     ]
    }
   ],
   "source": [
    "a = datetime.datetime(2025,2,10)\n",
    "b = datetime.datetime(2025,3,10)\n",
    "print(abs(a-b).days)"
   ]
  },
  {
   "cell_type": "markdown",
   "metadata": {},
   "source": [
    "### 10) WAP to Find the day of the week of a given date.(i.e. wether it is sunday/monday/tuesday/etc.)"
   ]
  },
  {
   "cell_type": "code",
   "execution_count": 37,
   "metadata": {},
   "outputs": [
    {
     "name": "stdout",
     "output_type": "stream",
     "text": [
      "Wednesday\n"
     ]
    }
   ],
   "source": [
    "a = datetime.datetime(2006,2,1)\n",
    "print(a.strftime('%A'))"
   ]
  },
  {
   "cell_type": "markdown",
   "metadata": {},
   "source": [
    "### 11) WAP to demonstrate the use of date time module."
   ]
  },
  {
   "cell_type": "code",
   "execution_count": 39,
   "metadata": {},
   "outputs": [
    {
     "name": "stdout",
     "output_type": "stream",
     "text": [
      "Wed Feb  1 00:00:00 2006\n"
     ]
    }
   ],
   "source": [
    "a = datetime.datetime(2006,2,1)\n",
    "print(a.strftime('%c'))"
   ]
  },
  {
   "cell_type": "markdown",
   "metadata": {},
   "source": [
    "### 12) WAP to demonstrate the use of the math module."
   ]
  },
  {
   "cell_type": "code",
   "execution_count": 42,
   "metadata": {},
   "outputs": [
    {
     "name": "stdout",
     "output_type": "stream",
     "text": [
      "2.0\n"
     ]
    }
   ],
   "source": [
    "import math\n",
    "p = [3]\n",
    "q = [1]\n",
    "print (math.dist(p,q))"
   ]
  },
  {
   "cell_type": "code",
   "execution_count": null,
   "metadata": {},
   "outputs": [],
   "source": []
  }
 ],
 "metadata": {
  "kernelspec": {
   "display_name": "Python 3 (ipykernel)",
   "language": "python",
   "name": "python3"
  },
  "language_info": {
   "codemirror_mode": {
    "name": "ipython",
    "version": 3
   },
   "file_extension": ".py",
   "mimetype": "text/x-python",
   "name": "python",
   "nbconvert_exporter": "python",
   "pygments_lexer": "ipython3",
   "version": "3.12.7"
  }
 },
 "nbformat": 4,
 "nbformat_minor": 4
}
