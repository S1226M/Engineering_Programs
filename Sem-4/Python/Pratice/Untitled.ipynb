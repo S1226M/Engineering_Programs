{
 "cells": [
  {
   "cell_type": "code",
   "execution_count": 36,
   "id": "8afdbc4c-d562-4684-be62-a92f5afaaade",
   "metadata": {},
   "outputs": [
    {
     "data": {
      "text/plain": [
       "[9, 5, 4, 3, 2, 1]"
      ]
     },
     "execution_count": 36,
     "metadata": {},
     "output_type": "execute_result"
    }
   ],
   "source": [
    "a = [1,3,2,5,4,3,2,1,9]\n",
    "b = sorted(set(a),reverse = True)\n",
    "b"
   ]
  },
  {
   "cell_type": "code",
   "execution_count": 32,
   "id": "5cf19780-8309-4f3c-b251-11c89198b7c7",
   "metadata": {},
   "outputs": [
    {
     "data": {
      "text/plain": [
       "[-2, 1, 3, 9, 7, 8, 0, 0, 0]"
      ]
     },
     "execution_count": 32,
     "metadata": {},
     "output_type": "execute_result"
    }
   ],
   "source": [
    "a = [0,-2,1,0,3,9,7,0,8]\n",
    "b = []\n",
    "count = 0\n",
    "for i in range(0,len(a)):\n",
    "    if a[i] == 0:\n",
    "        count += 1\n",
    "    else:\n",
    "        b.append(a[i])\n",
    "for i in range(0,count):\n",
    "    b.append(0)\n",
    "b"
   ]
  },
  {
   "cell_type": "code",
   "execution_count": 42,
   "id": "28cd56b5-ced1-4d7a-95f5-705c461d2b2f",
   "metadata": {},
   "outputs": [
    {
     "data": {
      "text/plain": [
       "[1, 2, 3, 4, 5, 6]"
      ]
     },
     "execution_count": 42,
     "metadata": {},
     "output_type": "execute_result"
    }
   ],
   "source": [
    "a = [1,2,2,3,4,4,5,6,6]\n",
    "b  = []\n",
    "for i in a:\n",
    "    if i not in b:\n",
    "        b.append(i)\n",
    "b"
   ]
  },
  {
   "cell_type": "code",
   "execution_count": 44,
   "id": "2c2b493b-e6b1-437c-8819-f90ff873a1d0",
   "metadata": {},
   "outputs": [
    {
     "name": "stdout",
     "output_type": "stream",
     "text": [
      "6\n"
     ]
    }
   ],
   "source": [
    "num = 12345\n",
    "\n",
    "while len(str(num)) > 1:\n",
    "    num = sum(int(digit) for digit in str(num))\n",
    "print(num)"
   ]
  },
  {
   "cell_type": "code",
   "execution_count": null,
   "id": "4b72badd-b24c-4ba2-a675-6de3639c516f",
   "metadata": {},
   "outputs": [],
   "source": [
    "a = [-2,3,4,5,-6,-9]\n",
    "b = []\n",
    "c = []\n",
    "for i in a:\n",
    "    if i > 0:\n",
    "        b.insert(0,i)\n",
    "    else:\n",
    "        b.append(i)\n",
    "for i range(0,len(b)):\n",
    "    "
   ]
  },
  {
   "cell_type": "code",
   "execution_count": null,
   "id": "6df2f79e-db31-468f-95c9-e8a00e97df1e",
   "metadata": {},
   "outputs": [],
   "source": []
  },
  {
   "cell_type": "code",
   "execution_count": null,
   "id": "bace41e1-60f8-42d9-b4d1-52958d9f0499",
   "metadata": {},
   "outputs": [],
   "source": []
  }
 ],
 "metadata": {
  "kernelspec": {
   "display_name": "Python 3 (ipykernel)",
   "language": "python",
   "name": "python3"
  },
  "language_info": {
   "codemirror_mode": {
    "name": "ipython",
    "version": 3
   },
   "file_extension": ".py",
   "mimetype": "text/x-python",
   "name": "python",
   "nbconvert_exporter": "python",
   "pygments_lexer": "ipython3",
   "version": "3.12.7"
  }
 },
 "nbformat": 4,
 "nbformat_minor": 5
}
