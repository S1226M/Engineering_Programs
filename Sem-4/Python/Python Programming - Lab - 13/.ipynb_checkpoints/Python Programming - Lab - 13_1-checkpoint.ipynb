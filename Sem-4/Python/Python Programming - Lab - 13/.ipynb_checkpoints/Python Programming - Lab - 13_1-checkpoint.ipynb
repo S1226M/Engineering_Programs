{
 "cells": [
  {
   "cell_type": "markdown",
   "metadata": {},
   "source": [
    "<a href='https://www.darshan.ac.in/'> <img src='https://www.darshan.ac.in/Content/media/DU_Logo.svg' width=\"250\" height=\"300\"/></a>\n",
    "<pre>\n",
    "<center><b><h1>Python Programming - 2301CS404</b></center>\n",
    "<center><b><h1>Lab - 13</b></center>\n",
    "    <center><b><h1>23010101161 || Smit Maru || 260\n",
    "    </b></center>\n",
    "<pre>"
   ]
  },
  {
   "cell_type": "markdown",
   "metadata": {},
   "source": [
    "# OOP"
   ]
  },
  {
   "cell_type": "markdown",
   "metadata": {},
   "source": [
    "### 01) Write a Program to create a class by name Students, and initialize attributes like name, age, and grade while creating an object."
   ]
  },
  {
   "cell_type": "code",
   "execution_count": 4,
   "metadata": {},
   "outputs": [
    {
     "name": "stdout",
     "output_type": "stream",
     "text": [
      "Dabeli 20 A++\n"
     ]
    }
   ],
   "source": [
    "class Student:\n",
    "    def __init__(self, name, age, grade):\n",
    "        self.Name = name\n",
    "        self.Age = age\n",
    "        self.Grade = grade\n",
    "s1 = Student(\"Dabeli\", 20, \"A++\")\n",
    "print(s1.Name, s1.Age, s1.Grade)\n"
   ]
  },
  {
   "cell_type": "markdown",
   "metadata": {},
   "source": [
    "### 02) Create a class named Bank_Account with Account_No, User_Name, Email,Account_Type and Account_Balance data members. Also create a method GetAccountDetails() and DisplayAccountDetails(). Create main method to demonstrate the Bank_Account class."
   ]
  },
  {
   "cell_type": "code",
   "execution_count": 11,
   "metadata": {},
   "outputs": [
    {
     "name": "stdin",
     "output_type": "stream",
     "text": [
      "Enter Acount No. 74\n",
      "Enter User Name rtyui\n",
      "Enter Email egh\n",
      "Enter Account Type asdfgh\n",
      "Account Balance 78451\n"
     ]
    },
    {
     "name": "stdout",
     "output_type": "stream",
     "text": [
      "74   78451   asdfgh   egh   rtyui\n"
     ]
    }
   ],
   "source": [
    "class Bank_Account():\n",
    "    Account_No = \"\"\n",
    "    User_Name = \"\"\n",
    "    Email = \"\"\n",
    "    Acount_Type = \"\"\n",
    "    Acount_Balance = \"\"\n",
    "    \n",
    "    @classmethod\n",
    "    def GetAccountDetails(cls):\n",
    "        cls.Account_No = input(\"Enter Acount No.\")\n",
    "        cls.User_Name = input(\"Enter User Name\")\n",
    "        cls.Email = input(\"Enter Email\")\n",
    "        cls.Acount_Type = input(\"Enter Account Type\")\n",
    "        cls.Acount_Balance = input(\"Account Balance\")\n",
    "    \n",
    "    def Display(cls):\n",
    "        print(cls.Account_No,\" \",cls.Acount_Balance,\" \",cls.Acount_Type,\" \",cls.Email,\" \",cls.User_Name)\n",
    "b1 = Bank_Account()\n",
    "b1.GetAccountDetails()\n",
    "b1.Display()"
   ]
  },
  {
   "cell_type": "markdown",
   "metadata": {},
   "source": [
    "### 03) WAP to create Circle class with area and perimeter function to find area and perimeter of circle."
   ]
  },
  {
   "cell_type": "code",
   "execution_count": 17,
   "metadata": {},
   "outputs": [
    {
     "name": "stdin",
     "output_type": "stream",
     "text": [
      "Enter Radious 10\n"
     ]
    },
    {
     "name": "stdout",
     "output_type": "stream",
     "text": [
      "Area Of Circle : 314.1592653589793 And Perimeter : 62.83185307179586\n"
     ]
    }
   ],
   "source": [
    "from math import pi\n",
    "class Circle():\n",
    "    Radious = \"\"\n",
    "    def __init__(self):\n",
    "        self.Radious = int(input(\"Enter Radious\"))\n",
    "    def Area(cls):\n",
    "        print(\"Area Of Circle :\",cls.Radious * cls.Radious * pi , \"And Perimeter :\" , 2*pi*cls.Radious)\n",
    "c1 = Circle()\n",
    "c1.Area()"
   ]
  },
  {
   "cell_type": "markdown",
   "metadata": {},
   "source": [
    "### 04) Create a class for employees that includes attributes such as name, age, salary, and methods to update and display employee information."
   ]
  },
  {
   "cell_type": "code",
   "execution_count": 21,
   "metadata": {},
   "outputs": [
    {
     "name": "stdin",
     "output_type": "stream",
     "text": [
      "Enter Name:  afdsc\n",
      "Enter Age:  65\n",
      "Enter Salary:  542\n"
     ]
    },
    {
     "name": "stdout",
     "output_type": "stream",
     "text": [
      "Name: afdsc, Age: 65, Salary: 542.0\n",
      "----------Before-----------\n",
      "Update Employee Details:\n"
     ]
    },
    {
     "name": "stdin",
     "output_type": "stream",
     "text": [
      "Enter Name (afdsc):  wads\n",
      "Enter Age (65):  4\n",
      "Enter Salary (542.0):  2541\n"
     ]
    },
    {
     "name": "stdout",
     "output_type": "stream",
     "text": [
      "Name: wads, Age: 4, Salary: 2541.0\n",
      "----------After-----------\n"
     ]
    }
   ],
   "source": [
    "class Employee:\n",
    "    def Get(self):\n",
    "        self.Name = input(\"Enter Name: \") \n",
    "        self.Age = int(input(\"Enter Age: \"))  # Convert to integer\n",
    "        self.Salary = float(input(\"Enter Salary: \"))  # Convert to float\n",
    "    \n",
    "    def Update(self):\n",
    "        print(\"Update Employee Details:\")\n",
    "        self.Name = input(f\"Enter Name ({self.Name}): \") or self.Name\n",
    "        self.Age = input(f\"Enter Age ({self.Age}): \") or self.Age\n",
    "        self.Salary = input(f\"Enter Salary ({self.Salary}): \") or self.Salary\n",
    "        if isinstance(self.Age, str):  # Convert Age if updated\n",
    "            self.Age = int(self.Age)\n",
    "        if isinstance(self.Salary, str):  # Convert Salary if updated\n",
    "            self.Salary = float(self.Salary)\n",
    "        self.Display()\n",
    "        \n",
    "    def Display(self):\n",
    "        print(f\"Name: {self.Name}, Age: {self.Age}, Salary: {self.Salary}\")\n",
    "\n",
    "# Creating an Employee instance\n",
    "e1 = Employee()\n",
    "e1.Get()\n",
    "e1.Display()\n",
    "print(\"----------Before-----------\")\n",
    "e1.Update()\n",
    "print(\"----------After-----------\")"
   ]
  },
  {
   "cell_type": "markdown",
   "metadata": {},
   "source": [
    "### 05) Create a bank account class with methods to deposit, withdraw, and check balance."
   ]
  },
  {
   "cell_type": "code",
   "execution_count": null,
   "metadata": {},
   "outputs": [],
   "source": []
  },
  {
   "cell_type": "markdown",
   "metadata": {},
   "source": [
    "### 06) Create a class for managing inventory that includes attributes such as item name, price, quantity, and methods to add, remove, and update items."
   ]
  },
  {
   "cell_type": "code",
   "execution_count": null,
   "metadata": {},
   "outputs": [],
   "source": []
  },
  {
   "cell_type": "markdown",
   "metadata": {},
   "source": [
    "### 07) Create a Class with instance attributes of your choice."
   ]
  },
  {
   "cell_type": "code",
   "execution_count": null,
   "metadata": {},
   "outputs": [],
   "source": []
  },
  {
   "cell_type": "markdown",
   "metadata": {},
   "source": [
    "### 08) Create one class student_kit\n",
    "#### Within the student_kit class create one class attribute principal name ( Mr ABC )\n",
    "#### Create one attendance method and take input as number of days.\n",
    "#### While creating student take input their name .\n",
    "#### Create one certificate for each student by taking input of number of days present in class."
   ]
  },
  {
   "cell_type": "code",
   "execution_count": null,
   "metadata": {},
   "outputs": [],
   "source": []
  },
  {
   "cell_type": "markdown",
   "metadata": {},
   "source": [
    "### 09) Define Time class with hour and minute as data member. Also define addition method to add two time objects."
   ]
  },
  {
   "cell_type": "code",
   "execution_count": null,
   "metadata": {},
   "outputs": [],
   "source": []
  }
 ],
 "metadata": {
  "kernelspec": {
   "display_name": "Python 3 (ipykernel)",
   "language": "python",
   "name": "python3"
  },
  "language_info": {
   "codemirror_mode": {
    "name": "ipython",
    "version": 3
   },
   "file_extension": ".py",
   "mimetype": "text/x-python",
   "name": "python",
   "nbconvert_exporter": "python",
   "pygments_lexer": "ipython3",
   "version": "3.12.7"
  }
 },
 "nbformat": 4,
 "nbformat_minor": 4
}
