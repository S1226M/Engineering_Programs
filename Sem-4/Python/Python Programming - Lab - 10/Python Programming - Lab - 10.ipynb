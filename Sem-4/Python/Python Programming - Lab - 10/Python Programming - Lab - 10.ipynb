{
 "cells": [
  {
   "cell_type": "markdown",
   "metadata": {},
   "source": [
    "<a href='https://www.darshan.ac.in/'> <img src='https://www.darshan.ac.in/Content/media/DU_Logo.svg' width=\"250\" height=\"300\"/></a>\n",
    "<pre>\n",
    "<center><b><h1>Python Programming - 2301CS404</b></center>\n",
    "<center><b><h1>Lab - 10</b></center>\n",
    "    <center><b><h1>23010101161 | Smit Maru | 260</b></center>\n",
    "<pre>"
   ]
  },
  {
   "cell_type": "markdown",
   "metadata": {},
   "source": [
    "# Exception Handling"
   ]
  },
  {
   "cell_type": "markdown",
   "metadata": {},
   "source": [
    "### 01) WAP to handle following exceptions:\n",
    "1. ZeroDivisionError\n",
    "2. ValueError\n",
    "3. TypeError\n",
    "#### Note: handle them using separate except blocks and also using single except block too."
   ]
  },
  {
   "cell_type": "code",
   "execution_count": 8,
   "metadata": {},
   "outputs": [
    {
     "name": "stdout",
     "output_type": "stream",
     "text": [
      "Number not Divisiable by zero\n"
     ]
    },
    {
     "name": "stdin",
     "output_type": "stream",
     "text": [
      "Enter number saxs\n"
     ]
    },
    {
     "name": "stdout",
     "output_type": "stream",
     "text": [
      "Enter integer number\n",
      "Number is not concat with string/char\n"
     ]
    }
   ],
   "source": [
    "try:\n",
    "    a = 11\n",
    "    b = 0\n",
    "    c = '0'\n",
    "    print(a/b)\n",
    "except ZeroDivisionError:\n",
    "    print(\"Number not Divisiable by zero\")\n",
    "try:\n",
    "    d = int(input(\"Enter number\"))\n",
    "except ValueError:\n",
    "    print(\"Enter integer number\")\n",
    "try:\n",
    "    print(a+c)\n",
    "except TypeError:\n",
    "    print(\"Number is not concat with string/char\")"
   ]
  },
  {
   "cell_type": "markdown",
   "metadata": {},
   "source": [
    "### 02)  WAP to handle following exceptions:\n",
    "1. IndexError\n",
    "2. KeyError"
   ]
  },
  {
   "cell_type": "code",
   "execution_count": 7,
   "metadata": {},
   "outputs": [
    {
     "name": "stdout",
     "output_type": "stream",
     "text": [
      "Index is out of range\n",
      "Key not found in d1\n"
     ]
    }
   ],
   "source": [
    "l1 = [10,20,30,40]\n",
    "try:\n",
    "    print(l1[4])\n",
    "except IndexError:\n",
    "    print(\"Index is out of range\")\n",
    "d1 = {1:'a',2:'b'}\n",
    "try:\n",
    "    print(d1[3])\n",
    "except:\n",
    "    print(\"Key not found in d1\")"
   ]
  },
  {
   "cell_type": "markdown",
   "metadata": {},
   "source": [
    "### 03) WAP to handle following exceptions:\n",
    "1. FileNotFoundError\n",
    "2. ModuleNotFoundError"
   ]
  },
  {
   "cell_type": "code",
   "execution_count": 12,
   "metadata": {},
   "outputs": [
    {
     "name": "stdout",
     "output_type": "stream",
     "text": [
      "File not found\n",
      "Module not found\n"
     ]
    }
   ],
   "source": [
    "try:\n",
    "    fp = open(\"abc.txt\",'r')\n",
    "    print(fp.read())\n",
    "except FileNotFoundError:\n",
    "    print(\"File not found\")\n",
    "try:\n",
    "    import aaaa\n",
    "except ModuleNotFoundError:\n",
    "    print(\"Module not found\")"
   ]
  },
  {
   "cell_type": "markdown",
   "metadata": {},
   "source": [
    "### 04) WAP that catches all type of exceptions in a single except block."
   ]
  },
  {
   "cell_type": "code",
   "execution_count": 18,
   "metadata": {},
   "outputs": [
    {
     "name": "stdin",
     "output_type": "stream",
     "text": [
      "Enter number e\n"
     ]
    },
    {
     "name": "stdout",
     "output_type": "stream",
     "text": [
      "ValueError : invalid literal for int() with base 10: 'e'\n"
     ]
    }
   ],
   "source": [
    "try:\n",
    "    a = 11\n",
    "    b = 0\n",
    "    c = '0'\n",
    "    d = int(input(\"Enter number\"))\n",
    "    print(a+c)\n",
    "    print(a/b)\n",
    "except Exception as e:\n",
    "    print(type(e).__name__+\" : \"+str(e))"
   ]
  },
  {
   "cell_type": "markdown",
   "metadata": {},
   "source": [
    "### 05) WAP to demonstrate else  and finally block."
   ]
  },
  {
   "cell_type": "code",
   "execution_count": 19,
   "metadata": {},
   "outputs": [
    {
     "name": "stdout",
     "output_type": "stream",
     "text": [
      "11.0\n",
      "Finally\n",
      "5.5\n",
      "Else\n"
     ]
    }
   ],
   "source": [
    "try:\n",
    "    print(11/0)\n",
    "except ZeroDivisionError:\n",
    "    print(\"Number can not devide by zero\")\n",
    "finally:\n",
    "    print(\"Finally\")\n",
    "try:\n",
    "    print(11/2)\n",
    "except ZeroDivisionError:\n",
    "    print(\"Number can not devide by zero\")\n",
    "else:\n",
    "    print(\"Else\")"
   ]
  },
  {
   "cell_type": "markdown",
   "metadata": {},
   "source": [
    "### 06) Create a short program that prompts the user for a list of grades separated by commas. \n",
    "### Split the string into individual grades and use a list comprehension to convert each string to an integer. \n",
    "### You should use a try statement to inform the user when the values they entered cannot be converted."
   ]
  },
  {
   "cell_type": "code",
   "execution_count": 35,
   "metadata": {},
   "outputs": [
    {
     "name": "stdin",
     "output_type": "stream",
     "text": [
      "Enter comma-separated numbers:  1,2,3,4\n"
     ]
    },
    {
     "name": "stdout",
     "output_type": "stream",
     "text": [
      "Converted numbers: [1, 2, 3, 4]\n"
     ]
    }
   ],
   "source": [
    "try:\n",
    "    s = input(\"Enter comma-separated numbers: \") \n",
    "    a = s.split(',') \n",
    "    numbers = [int(i) for i in a]\n",
    "    print(\"Converted numbers:\", numbers)\n",
    "except ValueError:\n",
    "    print(\"values could not be converted to an integer.\")\n"
   ]
  },
  {
   "cell_type": "markdown",
   "metadata": {},
   "source": [
    "### 07) WAP to create an udf divide(a,b) that handles ZeroDivisionError."
   ]
  },
  {
   "cell_type": "code",
   "execution_count": 32,
   "metadata": {},
   "outputs": [
    {
     "name": "stdout",
     "output_type": "stream",
     "text": [
      "Number not devide by zero\n"
     ]
    }
   ],
   "source": [
    "class zero(Exception):\n",
    "    pass\n",
    "try:\n",
    "    a = 1\n",
    "    b = 0\n",
    "    if b != 0:\n",
    "        print(a/b)\n",
    "    else:\n",
    "        raise zero\n",
    "except zero:\n",
    "    print(\"Number not devide by zero\")"
   ]
  },
  {
   "cell_type": "markdown",
   "metadata": {},
   "source": [
    "### 08) WAP that gets an age of a person form the user and raises ValueError with error message: \"Enter Valid Age\" :\n",
    "#### If the age is less than 18. \n",
    "#### otherwise print the age."
   ]
  },
  {
   "cell_type": "code",
   "execution_count": 22,
   "metadata": {},
   "outputs": [
    {
     "name": "stdin",
     "output_type": "stream",
     "text": [
      "Enter the age 19\n"
     ]
    },
    {
     "name": "stdout",
     "output_type": "stream",
     "text": [
      "19\n"
     ]
    }
   ],
   "source": [
    "class ageError(Exception):\n",
    "    def __init(self,msg):\n",
    "        msg = self.msg\n",
    "try:\n",
    "    age = int(input(\"Enter the age\"))\n",
    "    if age > 18:\n",
    "        print(age)\n",
    "    else:\n",
    "        raise ageError(\"Age grate then 18\")\n",
    "except ageError as e:\n",
    "    print(e)\n",
    "    "
   ]
  },
  {
   "cell_type": "markdown",
   "metadata": {},
   "source": [
    "### 09) WAP to raise your custom Exception named InvalidUsernameError with the error message : \"Username must be between 5 and 15 characters long\":\n",
    "#### if the given name is having characters less than 5 or greater than 15.\n",
    "#### otherwise print the given username."
   ]
  },
  {
   "cell_type": "code",
   "execution_count": 25,
   "metadata": {},
   "outputs": [
    {
     "name": "stdin",
     "output_type": "stream",
     "text": [
      "Enter the name smitmaru\n"
     ]
    },
    {
     "name": "stdout",
     "output_type": "stream",
     "text": [
      "smitmaru\n"
     ]
    }
   ],
   "source": [
    "class InvalidUsernameError(Exception):\n",
    "    def __init(self,msg):\n",
    "        msg = self.msg\n",
    "try:\n",
    "    s = input(\"Enter the name\")\n",
    "    if (len(s) >= 5) and (len(s) <= 15):\n",
    "        print(s)\n",
    "    else:\n",
    "        raise InvalidUsernameError(\"Inavlid User Name\")\n",
    "except InvalidUsernameError as e:\n",
    "    print(e)"
   ]
  },
  {
   "cell_type": "markdown",
   "metadata": {},
   "source": [
    "### 10) WAP to raise your custom Exception named NegativeNumberError with the error message : \"Cannot calculate the square root of a negative number\" :\n",
    "#### if the given number is negative.\n",
    "#### otherwise print the square root of the given number."
   ]
  },
  {
   "cell_type": "code",
   "execution_count": 29,
   "metadata": {},
   "outputs": [
    {
     "name": "stdin",
     "output_type": "stream",
     "text": [
      "Enter the age -1\n"
     ]
    },
    {
     "name": "stdout",
     "output_type": "stream",
     "text": [
      "a must be grate then 0\n"
     ]
    }
   ],
   "source": [
    "class NegativeNumberError(Exception):\n",
    "    def __init(self,msg):\n",
    "        msg = self.msg\n",
    "try:\n",
    "    a = int(input(\"Enter the age\"))\n",
    "    if a > 0:\n",
    "        print(a)\n",
    "    else:\n",
    "        raise NegativeNumberError(\"a must be grate then 0\")\n",
    "except NegativeNumberError as e:\n",
    "    print(e)"
   ]
  }
 ],
 "metadata": {
  "kernelspec": {
   "display_name": "Python 3 (ipykernel)",
   "language": "python",
   "name": "python3"
  },
  "language_info": {
   "codemirror_mode": {
    "name": "ipython",
    "version": 3
   },
   "file_extension": ".py",
   "mimetype": "text/x-python",
   "name": "python",
   "nbconvert_exporter": "python",
   "pygments_lexer": "ipython3",
   "version": "3.12.7"
  }
 },
 "nbformat": 4,
 "nbformat_minor": 4
}
