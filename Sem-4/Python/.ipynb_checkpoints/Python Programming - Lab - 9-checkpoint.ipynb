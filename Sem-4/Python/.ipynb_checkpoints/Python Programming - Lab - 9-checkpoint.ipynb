{
 "cells": [
  {
   "cell_type": "markdown",
   "metadata": {},
   "source": [
    "<a href='https://www.darshan.ac.in/'> <img src='https://www.darshan.ac.in/Content/media/DU_Logo.svg' width=\"250\" height=\"300\"/></a>\n",
    "<pre>\n",
    "<center><b><h1>Python Programming - 2301CS404</b></center>\n",
    "<center><b><h1>Lab - 9</b></center>\n",
    "    <center><b><h1>23010101161 - Smit Maru - 260</b></center>\n",
    "<pre>"
   ]
  },
  {
   "cell_type": "markdown",
   "metadata": {},
   "source": [
    "# File I/O"
   ]
  },
  {
   "cell_type": "markdown",
   "metadata": {},
   "source": [
    "### 01) WAP to read and display the contents of a text file. (also try to open the file in some other directory) \n",
    "#### - in the form of a string\n",
    "#### - line by line\n",
    "#### - in the form of a list"
   ]
  },
  {
   "cell_type": "code",
   "execution_count": 1,
   "metadata": {},
   "outputs": [
    {
     "name": "stdout",
     "output_type": "stream",
     "text": [
      "in the form of a string\n",
      "linelinelineline by line\n",
      "in the form of a list\n",
      "in the form of a string\n",
      "line by line\n",
      "in the form of a list\n"
     ]
    }
   ],
   "source": [
    "fp = open('text.txt')\n",
    "print(fp.read())\n",
    "fp.close()"
   ]
  },
  {
   "cell_type": "markdown",
   "metadata": {},
   "source": [
    "### 02) WAP to create file named \"new.txt\" only if it doesn't exist."
   ]
  },
  {
   "cell_type": "code",
   "execution_count": 3,
   "metadata": {},
   "outputs": [
    {
     "name": "stdout",
     "output_type": "stream",
     "text": [
      "14\n"
     ]
    }
   ],
   "source": [
    "fp = open('abc.txt','x')\n",
    "print(fp.write(\"File is Create\"))\n",
    "fp.close()"
   ]
  },
  {
   "cell_type": "markdown",
   "metadata": {},
   "source": [
    "### 03) WAP to read first 5 lines from the text file."
   ]
  },
  {
   "cell_type": "code",
   "execution_count": 4,
   "metadata": {},
   "outputs": [
    {
     "name": "stdout",
     "output_type": "stream",
     "text": [
      "in the form of a string\n",
      "linelinelineline by line\n",
      "in the form of a list\n",
      "in the form of a string\n",
      "line by line\n"
     ]
    }
   ],
   "source": [
    "fp = open('text.txt')\n",
    "data = fp.readlines()\n",
    "for i in range(0,5):\n",
    "    print(data[i][:len(data[i])-1])\n",
    "fp.close()"
   ]
  },
  {
   "cell_type": "markdown",
   "metadata": {},
   "source": [
    "### 04) WAP to find the longest word(s) in a file"
   ]
  },
  {
   "cell_type": "code",
   "execution_count": 5,
   "metadata": {},
   "outputs": [
    {
     "name": "stdout",
     "output_type": "stream",
     "text": [
      "linelinelineline\n"
     ]
    }
   ],
   "source": [
    "fp = open('text.txt')\n",
    "data = fp.readlines()\n",
    "long = ''\n",
    "\n",
    "for line in data:\n",
    "    words = line.split()\n",
    "    for word in words:\n",
    "        if len(word) > len(long):\n",
    "            long = word\n",
    "print(long)\n",
    "fp.close()"
   ]
  },
  {
   "cell_type": "markdown",
   "metadata": {},
   "source": [
    "### 05) WAP to count the no. of lines, words and characters in a given text file."
   ]
  },
  {
   "cell_type": "code",
   "execution_count": 35,
   "metadata": {},
   "outputs": [
    {
     "name": "stdout",
     "output_type": "stream",
     "text": [
      "No. of lines = 6\n",
      "30\n",
      "129\n"
     ]
    }
   ],
   "source": [
    "fp = open('text.txt')\n",
    "data = fp.readlines()\n",
    "print(f\"No. of lines = {len(data)}\")\n",
    "\n",
    "word_len = 0\n",
    "char_Count = 0\n",
    "for line in data:\n",
    "    word_len += len(line.split())\n",
    "    char_Count += len(line)\n",
    "print(word_len)\n",
    "print(char_Count)\n",
    "fp.close()"
   ]
  },
  {
   "cell_type": "markdown",
   "metadata": {},
   "source": [
    "### 06) WAP to copy the content of a file to the another file."
   ]
  },
  {
   "cell_type": "code",
   "execution_count": 36,
   "metadata": {},
   "outputs": [],
   "source": [
    "fp = open('text.txt')\n",
    "fp2 = open('text-copy.txt','x')\n",
    "fp2.write(fp.read())\n",
    "fp.close()\n",
    "fp2.close()"
   ]
  },
  {
   "cell_type": "markdown",
   "metadata": {},
   "source": [
    "### 07) WAP to find the size of the text file. "
   ]
  },
  {
   "cell_type": "code",
   "execution_count": 40,
   "metadata": {},
   "outputs": [
    {
     "name": "stdout",
     "output_type": "stream",
     "text": [
      "129\n"
     ]
    }
   ],
   "source": [
    "fp = open('text.txt')\n",
    "fp.seek(0,2)\n",
    "print(fp.tell())"
   ]
  },
  {
   "cell_type": "markdown",
   "metadata": {},
   "source": [
    "### 08) WAP to create an UDF named frequency to count occurances of the specific word in a given text file."
   ]
  },
  {
   "cell_type": "code",
   "execution_count": null,
   "metadata": {},
   "outputs": [],
   "source": [
    "def occurances_of_char():\n",
    "    fp = open('text.txt')\n",
    "    data = fp.readlines()\n",
    "    x = \n",
    "    char_count = 0\n",
    "    for line in data:\n",
    "        word_len = line.split()\n",
    "        for j in word_len:\n",
    "            if(x = j):\n",
    "                char_Count += 1\n",
    "    fp.close()\n",
    "    print()"
   ]
  },
  {
   "cell_type": "markdown",
   "metadata": {},
   "source": [
    "### 09) WAP to get the score of five subjects from the user, store them in a file. Fetch those marks and find the highest score."
   ]
  },
  {
   "cell_type": "code",
   "execution_count": 6,
   "metadata": {},
   "outputs": [
    {
     "name": "stdin",
     "output_type": "stream",
     "text": [
      "Enter the score for subject 1:  10\n",
      "Enter the score for subject 2:  20\n",
      "Enter the score for subject 3:  30\n",
      "Enter the score for subject 4:  40\n",
      "Enter the score for subject 5:  50\n"
     ]
    },
    {
     "name": "stdout",
     "output_type": "stream",
     "text": [
      "5\n"
     ]
    }
   ],
   "source": [
    "fp = open(\"score.txt\", \"w\") \n",
    "for i in range(1, 6):\n",
    "    scores = input(f\"Enter the score for subject {i}: \")\n",
    "    fp.write(scores)\n",
    "fp.close()\n",
    "\n",
    "fp = open(\"score.txt\", \"r\") \n",
    "fp.readlines()\n",
    "scores = [int(score.strip()) for score in scores]\n",
    "highest_score = max(scores)\n",
    "print(highest_score)\n",
    "fp.close()"
   ]
  },
  {
   "cell_type": "markdown",
   "metadata": {},
   "source": [
    "### 10) WAP to write first 100 prime numbers to a file named primenumbers.txt \n",
    "(Note: each number should be in new line)"
   ]
  },
  {
   "cell_type": "code",
   "execution_count": 2,
   "metadata": {},
   "outputs": [
    {
     "name": "stdout",
     "output_type": "stream",
     "text": [
      "[2, 3, 5, 7, 11, 13, 17, 19, 23, 29, 31, 37, 41, 43, 47, 53, 59, 61, 67, 71, 73, 79, 83, 89, 97]\n"
     ]
    }
   ],
   "source": [
    "l1=[]\n",
    "count = 0     \n",
    "while count < 100:\n",
    "    num = 0\n",
    "    for j in range(1,count):\n",
    "        if(count%j==0):\n",
    "            num+=1\n",
    "    if(num==1):\n",
    "        l1.append(count)\n",
    "    count+=1\n",
    "l2=[str(i)+\"\\n\" for i in l1]\n",
    "with open(\"primenumbers.txt\", \"w\") as file:\n",
    "    file.writelines(l2)\n",
    "print(l1)"
   ]
  },
  {
   "cell_type": "markdown",
   "metadata": {},
   "source": [
    "### 11) WAP to merge two files and write it in a new file."
   ]
  },
  {
   "cell_type": "code",
   "execution_count": 7,
   "metadata": {},
   "outputs": [
    {
     "name": "stdout",
     "output_type": "stream",
     "text": [
      "Files 'new.txt' and 'file2.txt' have been merged into 'merged.txt'.\n"
     ]
    }
   ],
   "source": [
    "def merge_files(new, file2, output_file):\n",
    "    \"\"\"Merge contents of file1 and file2 into output_file.\"\"\"\n",
    "    with open(output_file, \"w\") as outfile:\n",
    "        for file in [new, file2]:\n",
    "            with open(new, \"r\") as infile:\n",
    "                outfile.write(infile.read() + \"\\n\")  \n",
    "\n",
    "# File names\n",
    "new = \"new.txt\"\n",
    "file2 = \"file2.txt\"\n",
    "output_file = \"merged.txt\"\n",
    "\n",
    "# Merge the files\n",
    "merge_files(new, file2, output_file)\n",
    "\n",
    "print(f\"Files '{new}' and '{file2}' have been merged into '{output_file}'.\")"
   ]
  },
  {
   "cell_type": "markdown",
   "metadata": {},
   "source": [
    "### 12) WAP to replace word1 by word2 of a text file. Write the updated data to new file."
   ]
  },
  {
   "cell_type": "code",
   "execution_count": 1,
   "metadata": {},
   "outputs": [
    {
     "name": "stdout",
     "output_type": "stream",
     "text": [
      "Replaced 'oldword' with 'newword' and saved to 'updated.txt'.\n"
     ]
    }
   ],
   "source": [
    "def replace_word(input_file, output_file, word1, word2):\n",
    "    \"\"\"Replace all occurrences of word1 with word2 in input_file and save to output_file.\"\"\"\n",
    "    with open(input_file, \"r\", encoding=\"utf-8\") as infile:\n",
    "        data = infile.read()\n",
    "\n",
    "    updated_data = data.replace(word1, word2)\n",
    "\n",
    "    with open(output_file, \"w\", encoding=\"utf-8\") as outfile:\n",
    "        outfile.write(updated_data)\n",
    "\n",
    "    print(f\"Replaced '{word1}' with '{word2}' and saved to '{output_file}'.\")\n",
    "\n",
    "input_file = \"new.txt\"\n",
    "output_file = \"updated.txt\"\n",
    "word1 = \"oldword\"\n",
    "word2 = \"newword\"\n",
    "\n",
    "replace_word(input_file, output_file, word1, word2)"
   ]
  },
  {
   "cell_type": "markdown",
   "metadata": {},
   "source": [
    "### 13) Demonstrate tell() and seek() for all the cases(seek from beginning-end-current position) taking a suitable example of your choice."
   ]
  },
  {
   "cell_type": "code",
   "execution_count": 12,
   "metadata": {},
   "outputs": [
    {
     "name": "stdout",
     "output_type": "stream",
     "text": [
      "5\n",
      "125\n"
     ]
    }
   ],
   "source": [
    "fp = open(\"text.txt\",\"rb\")\n",
    "fp.read(5)\n",
    "print(fp.tell())\n",
    "fp.seek(0,2)\n",
    "fp.seek(-4,1)\n",
    "print(fp.tell())\n",
    "fp.close()"
   ]
  },
  {
   "cell_type": "code",
   "execution_count": null,
   "metadata": {},
   "outputs": [],
   "source": []
  }
 ],
 "metadata": {
  "kernelspec": {
   "display_name": "Python 3 (ipykernel)",
   "language": "python",
   "name": "python3"
  },
  "language_info": {
   "codemirror_mode": {
    "name": "ipython",
    "version": 3
   },
   "file_extension": ".py",
   "mimetype": "text/x-python",
   "name": "python",
   "nbconvert_exporter": "python",
   "pygments_lexer": "ipython3",
   "version": "3.12.7"
  }
 },
 "nbformat": 4,
 "nbformat_minor": 4
}
