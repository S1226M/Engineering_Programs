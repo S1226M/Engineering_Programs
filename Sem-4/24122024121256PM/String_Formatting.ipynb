{
 "cells": [
  {
   "cell_type": "markdown",
   "id": "29ec1962-fd52-426a-bfc7-c72197afb3b3",
   "metadata": {},
   "source": [
    "## C Style Formatting"
   ]
  },
  {
   "cell_type": "code",
   "execution_count": 2,
   "id": "460e76a4-ea2f-4e04-9281-6155fe114093",
   "metadata": {},
   "outputs": [],
   "source": [
    "rollno = 10\n",
    "name = 'Ravi'\n",
    "avg = 86.787984554\n"
   ]
  },
  {
   "cell_type": "code",
   "execution_count": 4,
   "id": "22ac4b1b-41dc-440f-9ca4-2da72ca25739",
   "metadata": {},
   "outputs": [
    {
     "name": "stdout",
     "output_type": "stream",
     "text": [
      "Student name is Ravi, his roll no is 10 and his average marks is 86.787985\n"
     ]
    }
   ],
   "source": [
    "print('Student name is %s, his roll no is %d and his average marks is %f'%(name,rollno,avg))"
   ]
  },
  {
   "cell_type": "code",
   "execution_count": 6,
   "id": "f2dc6859-40ac-4cf1-bb9d-5d4342d34694",
   "metadata": {},
   "outputs": [
    {
     "name": "stdout",
     "output_type": "stream",
     "text": [
      "Roll no is :        10 ...\n"
     ]
    }
   ],
   "source": [
    "print('Roll no is :%10d ...'%rollno)"
   ]
  },
  {
   "cell_type": "code",
   "execution_count": 8,
   "id": "abc5506a-dfc8-4fb8-a60e-1fbfb74f9774",
   "metadata": {},
   "outputs": [
    {
     "name": "stdout",
     "output_type": "stream",
     "text": [
      "Name of the student is : Ravi    .........\n"
     ]
    }
   ],
   "source": [
    "print('Name of the student is : %-8s.........'%name)"
   ]
  },
  {
   "cell_type": "code",
   "execution_count": 10,
   "id": "630cbae8-24d7-4dc2-bc9e-3cc635c263b4",
   "metadata": {},
   "outputs": [
    {
     "name": "stdout",
     "output_type": "stream",
     "text": [
      "Avergae marks is:86.788\n"
     ]
    }
   ],
   "source": [
    "print('Avergae marks is:%6.3f'%avg)"
   ]
  },
  {
   "cell_type": "markdown",
   "id": "52515fd0-6bee-4166-b5fe-e7731b6463f7",
   "metadata": {},
   "source": [
    "## Formatted Printing"
   ]
  },
  {
   "cell_type": "code",
   "execution_count": 15,
   "id": "3e0c4ef1-7737-4f55-bcad-ce452aa7e19a",
   "metadata": {},
   "outputs": [
    {
     "name": "stdout",
     "output_type": "stream",
     "text": [
      "Division of 22 and 7 is 3.142857142857143\n",
      "Division of 22 and 7 is 3.142857142857143\n",
      "Division of 22 and 7 is 3.142857142857143\n"
     ]
    }
   ],
   "source": [
    "a = 22\n",
    "b = 7\n",
    "c = a/b\n",
    "print('Division of {} and {} is {}'.format(a,b,c))\n",
    "print('Division of {0} and {1} is {2}'.format(a,b,c))\n",
    "print('Division of {2} and {1} is {0}'.format(c,b,a))"
   ]
  },
  {
   "cell_type": "code",
   "execution_count": 17,
   "id": "57ccd36a-0f7f-4fab-835b-c9b454f38686",
   "metadata": {},
   "outputs": [
    {
     "name": "stdout",
     "output_type": "stream",
     "text": [
      "Division of      22 and          7 is3.143\n"
     ]
    }
   ],
   "source": [
    "print('Division of {0:7} and {1:10} is{2:5.4}'.format(a,b,c)) # width"
   ]
  },
  {
   "cell_type": "code",
   "execution_count": 19,
   "id": "286994c2-837e-4b19-8ecf-8610346de7f5",
   "metadata": {},
   "outputs": [
    {
     "name": "stdout",
     "output_type": "stream",
     "text": [
      "Division of     22     and        7        is 3.143\n"
     ]
    }
   ],
   "source": [
    "print('Division of {0:^10} and {1:^15} is{2:6.4}'.format(a,b,c)) #alignment"
   ]
  },
  {
   "cell_type": "code",
   "execution_count": 25,
   "id": "50b30292-cf42-4ea3-bc0b-c8440a798d60",
   "metadata": {},
   "outputs": [
    {
     "name": "stdout",
     "output_type": "stream",
     "text": [
      "Division of 22         and        7        is3.14\n"
     ]
    }
   ],
   "source": [
    "print('Division of {0:<10} and {1:^15} is{2:4.2f}'.format(a,b,c))"
   ]
  },
  {
   "cell_type": "code",
   "execution_count": 27,
   "id": "aa37bd68-a09f-474a-87a4-031893608e47",
   "metadata": {},
   "outputs": [
    {
     "name": "stdout",
     "output_type": "stream",
     "text": [
      "division of         22 and        7        if    3.14\n"
     ]
    }
   ],
   "source": [
    "print('division of {0:10} and {1:^15} if {2:7.2f}'.format(a,b,c))"
   ]
  },
  {
   "cell_type": "code",
   "execution_count": 29,
   "id": "faeb678b-ab79-4d5e-8ad2-dd3e1e87aaed",
   "metadata": {},
   "outputs": [
    {
     "name": "stdout",
     "output_type": "stream",
     "text": [
      "division of         22 and        7        is    3.14\n"
     ]
    }
   ],
   "source": [
    "print(f'division of {a:10} and {b:^15} is {c:7.2f}')"
   ]
  },
  {
   "cell_type": "code",
   "execution_count": null,
   "id": "831cd2c0-67aa-4c8b-967a-a1bfe0cfa37c",
   "metadata": {},
   "outputs": [],
   "source": []
  }
 ],
 "metadata": {
  "kernelspec": {
   "display_name": "Python 3 (ipykernel)",
   "language": "python",
   "name": "python3"
  },
  "language_info": {
   "codemirror_mode": {
    "name": "ipython",
    "version": 3
   },
   "file_extension": ".py",
   "mimetype": "text/x-python",
   "name": "python",
   "nbconvert_exporter": "python",
   "pygments_lexer": "ipython3",
   "version": "3.12.7"
  }
 },
 "nbformat": 4,
 "nbformat_minor": 5
}
