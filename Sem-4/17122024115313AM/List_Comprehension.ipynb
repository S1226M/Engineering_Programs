{
 "cells": [
  {
   "cell_type": "code",
   "execution_count": 1,
   "id": "420b45d4-26a4-480b-826b-6902fde64116",
   "metadata": {},
   "outputs": [],
   "source": [
    "# l1 = [expression for i in iterable]"
   ]
  },
  {
   "cell_type": "code",
   "execution_count": 3,
   "id": "d418b4fb-9573-4540-8aa4-eafc91971d73",
   "metadata": {},
   "outputs": [
    {
     "name": "stdout",
     "output_type": "stream",
     "text": [
      "[0, 1, 2, 3, 4, 5, 6, 7, 8, 9]\n"
     ]
    }
   ],
   "source": [
    "li = []\n",
    "for i in range(10):\n",
    "    li.append(i)\n",
    "print(li)"
   ]
  },
  {
   "cell_type": "code",
   "execution_count": 5,
   "id": "3e4d04bd-28b1-4b10-8d93-e17e14bad669",
   "metadata": {},
   "outputs": [],
   "source": [
    "l1 = [ i for i in range(10)]"
   ]
  },
  {
   "cell_type": "code",
   "execution_count": 7,
   "id": "4ccdfdda-9a92-4ac9-af3e-efaa51335d5a",
   "metadata": {},
   "outputs": [
    {
     "data": {
      "text/plain": [
       "[0, 1, 2, 3, 4, 5, 6, 7, 8, 9]"
      ]
     },
     "execution_count": 7,
     "metadata": {},
     "output_type": "execute_result"
    }
   ],
   "source": [
    "l1"
   ]
  },
  {
   "cell_type": "code",
   "execution_count": 9,
   "id": "ffcd38e2-6d3f-44a4-a568-74f280621653",
   "metadata": {},
   "outputs": [],
   "source": [
    "l2 = [i**2 for i in range(1,6)]"
   ]
  },
  {
   "cell_type": "code",
   "execution_count": 11,
   "id": "cdecb21c-6d5f-4f43-92ad-0fef9527b05d",
   "metadata": {},
   "outputs": [
    {
     "data": {
      "text/plain": [
       "[1, 4, 9, 16, 25]"
      ]
     },
     "execution_count": 11,
     "metadata": {},
     "output_type": "execute_result"
    }
   ],
   "source": [
    "l2"
   ]
  },
  {
   "cell_type": "code",
   "execution_count": 13,
   "id": "1173806d-b601-4c46-983e-67fbb44a3a59",
   "metadata": {},
   "outputs": [],
   "source": [
    "l3 = [i for i in (10,5,7,8,12,3) if i%2==0]"
   ]
  },
  {
   "cell_type": "code",
   "execution_count": 15,
   "id": "1ede20a3-0c26-49ec-ba32-906003c3dbac",
   "metadata": {},
   "outputs": [
    {
     "data": {
      "text/plain": [
       "[10, 8, 12]"
      ]
     },
     "execution_count": 15,
     "metadata": {},
     "output_type": "execute_result"
    }
   ],
   "source": [
    "l3"
   ]
  },
  {
   "cell_type": "code",
   "execution_count": 17,
   "id": "cedf1d32-41bc-4ad8-8e4f-96be8164f377",
   "metadata": {},
   "outputs": [],
   "source": [
    "l4 = [i.lower() for i in 'PyThoN']"
   ]
  },
  {
   "cell_type": "code",
   "execution_count": 19,
   "id": "2ebfdcaf-bfc4-49ed-a340-795bb403610d",
   "metadata": {},
   "outputs": [
    {
     "data": {
      "text/plain": [
       "['p', 'y', 't', 'h', 'o', 'n']"
      ]
     },
     "execution_count": 19,
     "metadata": {},
     "output_type": "execute_result"
    }
   ],
   "source": [
    "l4"
   ]
  },
  {
   "cell_type": "code",
   "execution_count": 21,
   "id": "bb74e77e-a43d-4f35-850c-166c43a28e40",
   "metadata": {},
   "outputs": [],
   "source": [
    "s = 'ab12de-&fg4$hi2'"
   ]
  },
  {
   "cell_type": "code",
   "execution_count": 23,
   "id": "4e325b27-ed2b-4dbe-8d74-bffcdb1cac18",
   "metadata": {},
   "outputs": [],
   "source": [
    "l5 = [i for i in s if i.isalpha()]"
   ]
  },
  {
   "cell_type": "code",
   "execution_count": 25,
   "id": "2634a517-d8ea-4f70-b294-e31e5a4a8fe6",
   "metadata": {},
   "outputs": [
    {
     "data": {
      "text/plain": [
       "['a', 'b', 'd', 'e', 'f', 'g', 'h', 'i']"
      ]
     },
     "execution_count": 25,
     "metadata": {},
     "output_type": "execute_result"
    }
   ],
   "source": [
    "l5"
   ]
  },
  {
   "cell_type": "code",
   "execution_count": 27,
   "id": "4dfefcaf-9806-4300-ba41-a199e035c738",
   "metadata": {},
   "outputs": [],
   "source": [
    "# l6 = 'ajay', 'john','smith'"
   ]
  },
  {
   "cell_type": "code",
   "execution_count": 31,
   "id": "3277e160-a49f-48aa-9678-9400d672b4bb",
   "metadata": {},
   "outputs": [
    {
     "name": "stdin",
     "output_type": "stream",
     "text": [
      "Enter names :  ajay john smith\n"
     ]
    },
    {
     "name": "stdout",
     "output_type": "stream",
     "text": [
      "['ajay', 'john', 'smith']\n"
     ]
    }
   ],
   "source": [
    "data = input('Enter names : ')\n",
    "l6 = data.split()\n",
    "print(l6)"
   ]
  },
  {
   "cell_type": "code",
   "execution_count": 33,
   "id": "dd3070b7-dc32-4d10-b2f2-a8789fc5bdb1",
   "metadata": {},
   "outputs": [
    {
     "name": "stdin",
     "output_type": "stream",
     "text": [
      "Enter names : ajay john smith\n"
     ]
    },
    {
     "name": "stdout",
     "output_type": "stream",
     "text": [
      "['ajay', 'john', 'smith']\n"
     ]
    }
   ],
   "source": [
    "l6 = input('Enter names :').split()\n",
    "print(l6)"
   ]
  },
  {
   "cell_type": "code",
   "execution_count": null,
   "id": "958b9d3b-7ccf-409b-acc9-43b0b3173209",
   "metadata": {},
   "outputs": [],
   "source": []
  }
 ],
 "metadata": {
  "kernelspec": {
   "display_name": "Python 3 (ipykernel)",
   "language": "python",
   "name": "python3"
  },
  "language_info": {
   "codemirror_mode": {
    "name": "ipython",
    "version": 3
   },
   "file_extension": ".py",
   "mimetype": "text/x-python",
   "name": "python",
   "nbconvert_exporter": "python",
   "pygments_lexer": "ipython3",
   "version": "3.12.7"
  }
 },
 "nbformat": 4,
 "nbformat_minor": 5
}
